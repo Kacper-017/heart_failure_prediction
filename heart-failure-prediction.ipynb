{
 "cells": [
  {
   "cell_type": "markdown",
   "id": "2a751875",
   "metadata": {
    "papermill": {
     "duration": 0.007597,
     "end_time": "2024-01-26T23:33:06.703092",
     "exception": false,
     "start_time": "2024-01-26T23:33:06.695495",
     "status": "completed"
    },
    "tags": []
   },
   "source": [
    "# 0. Project Overview"
   ]
  },
  {
   "cell_type": "markdown",
   "id": "9d55738e",
   "metadata": {
    "papermill": {
     "duration": 0.006647,
     "end_time": "2024-01-26T23:33:06.718216",
     "exception": false,
     "start_time": "2024-01-26T23:33:06.711569",
     "status": "completed"
    },
    "tags": []
   },
   "source": [
    "The goal of this project is to predict whether a patient is likely to experience a heart faiulure given their medical record.\n",
    "\n",
    "**Attribute Information:**\n",
    "* **Age**: age of the patient [years]\n",
    "* **Sex**: sex of the patient [M: Male, F: Female]\n",
    "* **ChestPainType**: chest pain type [TA: Typical Angina, ATA: Atypical Angina, NAP: Non-Anginal Pain, ASY: Asymptomatic]\n",
    "* **RestingBP**: resting blood pressure [mm Hg]\n",
    "* **Cholesterol**: serum cholesterol [mm/dl]\n",
    "* **FastingBS**: fasting blood sugar [1: if FastingBS > 120 mg/dl, 0: otherwise]\n",
    "* **RestingECG**:: resting electrocardiogram results [Normal: Normal, ST: having ST-T wave abnormality (T wave inversions and/or ST elevation or depression of > 0.05 mV), LVH: showing probable or definite left ventricular hypertrophy by Estes' criteria]\n",
    "* **MaxHR**:: maximum heart rate achieved [Numeric value between 60 and 202]\n",
    "* **ExerciseAngina**:: exercise-induced angina [Y: Yes, N: No]\n",
    "* **Oldpeak**:: oldpeak = ST [Numeric value measured in depression]\n",
    "* **ST_Slope**:: the slope of the peak exercise ST segment [Up: upsloping, Flat: flat, Down: downsloping]\n",
    "* **HeartDisease**:: output class [1: heart disease, 0: Normal]\n",
    "\n",
    "**The Plan**\n",
    "1. Identified the date types, missing values, data distribution, correlation.\n",
    "2. Split the data into training, validation, test datasets.\n",
    "3. Initialize a pipeline for transformations.\n",
    "4. Create a strategy for dealing with outliers and missing values (fill with mean, drop missing values, drop outlier columns).\n",
    "5. Create new features, perform normalization and other transformations.\n",
    "6. Initialized the classifiers, select parameters to tune.\n",
    "7. Performed training with grid search and cross validation.\n",
    "8. Select the best set of hyper parameters for each classifier.\n",
    "9. Compare all the classifiers with there best hyper parameters.\n",
    "10. Select the best model and evaluate it on the test set.\n",
    "11. Document your findings (feature importance, etc.) "
   ]
  },
  {
   "cell_type": "markdown",
   "id": "339678c8",
   "metadata": {
    "papermill": {
     "duration": 0.006634,
     "end_time": "2024-01-26T23:33:06.731961",
     "exception": false,
     "start_time": "2024-01-26T23:33:06.725327",
     "status": "completed"
    },
    "tags": []
   },
   "source": [
    "# 1. Exploring the data"
   ]
  },
  {
   "cell_type": "code",
   "execution_count": 1,
   "id": "7e9f4b45",
   "metadata": {
    "_cell_guid": "b1076dfc-b9ad-4769-8c92-a6c4dae69d19",
    "_uuid": "8f2839f25d086af736a60e9eeb907d3b93b6e0e5",
    "execution": {
     "iopub.execute_input": "2024-01-26T23:33:06.747782Z",
     "iopub.status.busy": "2024-01-26T23:33:06.747138Z",
     "iopub.status.idle": "2024-01-26T23:33:08.606170Z",
     "shell.execute_reply": "2024-01-26T23:33:08.605132Z"
    },
    "papermill": {
     "duration": 1.869604,
     "end_time": "2024-01-26T23:33:08.608482",
     "exception": false,
     "start_time": "2024-01-26T23:33:06.738878",
     "status": "completed"
    },
    "tags": []
   },
   "outputs": [
    {
     "name": "stdout",
     "output_type": "stream",
     "text": [
      "/kaggle/input/heart-failure-prediction/heart.csv\n"
     ]
    }
   ],
   "source": [
    "import numpy as np # linear algebra\n",
    "import pandas as pd # data processing, CSV file I/O (e.g. pd.read_csv)\n",
    "import os\n",
    "import matplotlib.pyplot as plt\n",
    "import seaborn as sns\n",
    "from sklearn.model_selection import train_test_split\n",
    "from sklearn.pipeline import Pipeline\n",
    "for dirname, _, filenames in os.walk('/kaggle/input'):\n",
    "    for filename in filenames:\n",
    "        print(os.path.join(dirname, filename))"
   ]
  },
  {
   "cell_type": "code",
   "execution_count": 2,
   "id": "e2b5e001",
   "metadata": {
    "execution": {
     "iopub.execute_input": "2024-01-26T23:33:08.624996Z",
     "iopub.status.busy": "2024-01-26T23:33:08.624056Z",
     "iopub.status.idle": "2024-01-26T23:33:08.665037Z",
     "shell.execute_reply": "2024-01-26T23:33:08.663975Z"
    },
    "papermill": {
     "duration": 0.051678,
     "end_time": "2024-01-26T23:33:08.667289",
     "exception": false,
     "start_time": "2024-01-26T23:33:08.615611",
     "status": "completed"
    },
    "tags": []
   },
   "outputs": [
    {
     "data": {
      "text/html": [
       "<div>\n",
       "<style scoped>\n",
       "    .dataframe tbody tr th:only-of-type {\n",
       "        vertical-align: middle;\n",
       "    }\n",
       "\n",
       "    .dataframe tbody tr th {\n",
       "        vertical-align: top;\n",
       "    }\n",
       "\n",
       "    .dataframe thead th {\n",
       "        text-align: right;\n",
       "    }\n",
       "</style>\n",
       "<table border=\"1\" class=\"dataframe\">\n",
       "  <thead>\n",
       "    <tr style=\"text-align: right;\">\n",
       "      <th></th>\n",
       "      <th>Age</th>\n",
       "      <th>Sex</th>\n",
       "      <th>ChestPainType</th>\n",
       "      <th>RestingBP</th>\n",
       "      <th>Cholesterol</th>\n",
       "      <th>FastingBS</th>\n",
       "      <th>RestingECG</th>\n",
       "      <th>MaxHR</th>\n",
       "      <th>ExerciseAngina</th>\n",
       "      <th>Oldpeak</th>\n",
       "      <th>ST_Slope</th>\n",
       "      <th>HeartDisease</th>\n",
       "    </tr>\n",
       "  </thead>\n",
       "  <tbody>\n",
       "    <tr>\n",
       "      <th>0</th>\n",
       "      <td>40</td>\n",
       "      <td>M</td>\n",
       "      <td>ATA</td>\n",
       "      <td>140</td>\n",
       "      <td>289</td>\n",
       "      <td>0</td>\n",
       "      <td>Normal</td>\n",
       "      <td>172</td>\n",
       "      <td>N</td>\n",
       "      <td>0.0</td>\n",
       "      <td>Up</td>\n",
       "      <td>0</td>\n",
       "    </tr>\n",
       "    <tr>\n",
       "      <th>1</th>\n",
       "      <td>49</td>\n",
       "      <td>F</td>\n",
       "      <td>NAP</td>\n",
       "      <td>160</td>\n",
       "      <td>180</td>\n",
       "      <td>0</td>\n",
       "      <td>Normal</td>\n",
       "      <td>156</td>\n",
       "      <td>N</td>\n",
       "      <td>1.0</td>\n",
       "      <td>Flat</td>\n",
       "      <td>1</td>\n",
       "    </tr>\n",
       "    <tr>\n",
       "      <th>2</th>\n",
       "      <td>37</td>\n",
       "      <td>M</td>\n",
       "      <td>ATA</td>\n",
       "      <td>130</td>\n",
       "      <td>283</td>\n",
       "      <td>0</td>\n",
       "      <td>ST</td>\n",
       "      <td>98</td>\n",
       "      <td>N</td>\n",
       "      <td>0.0</td>\n",
       "      <td>Up</td>\n",
       "      <td>0</td>\n",
       "    </tr>\n",
       "    <tr>\n",
       "      <th>3</th>\n",
       "      <td>48</td>\n",
       "      <td>F</td>\n",
       "      <td>ASY</td>\n",
       "      <td>138</td>\n",
       "      <td>214</td>\n",
       "      <td>0</td>\n",
       "      <td>Normal</td>\n",
       "      <td>108</td>\n",
       "      <td>Y</td>\n",
       "      <td>1.5</td>\n",
       "      <td>Flat</td>\n",
       "      <td>1</td>\n",
       "    </tr>\n",
       "    <tr>\n",
       "      <th>4</th>\n",
       "      <td>54</td>\n",
       "      <td>M</td>\n",
       "      <td>NAP</td>\n",
       "      <td>150</td>\n",
       "      <td>195</td>\n",
       "      <td>0</td>\n",
       "      <td>Normal</td>\n",
       "      <td>122</td>\n",
       "      <td>N</td>\n",
       "      <td>0.0</td>\n",
       "      <td>Up</td>\n",
       "      <td>0</td>\n",
       "    </tr>\n",
       "  </tbody>\n",
       "</table>\n",
       "</div>"
      ],
      "text/plain": [
       "   Age Sex ChestPainType  RestingBP  Cholesterol  FastingBS RestingECG  MaxHR  \\\n",
       "0   40   M           ATA        140          289          0     Normal    172   \n",
       "1   49   F           NAP        160          180          0     Normal    156   \n",
       "2   37   M           ATA        130          283          0         ST     98   \n",
       "3   48   F           ASY        138          214          0     Normal    108   \n",
       "4   54   M           NAP        150          195          0     Normal    122   \n",
       "\n",
       "  ExerciseAngina  Oldpeak ST_Slope  HeartDisease  \n",
       "0              N      0.0       Up             0  \n",
       "1              N      1.0     Flat             1  \n",
       "2              N      0.0       Up             0  \n",
       "3              Y      1.5     Flat             1  \n",
       "4              N      0.0       Up             0  "
      ]
     },
     "execution_count": 2,
     "metadata": {},
     "output_type": "execute_result"
    }
   ],
   "source": [
    "data_df = pd.read_csv('/kaggle/input/heart-failure-prediction/heart.csv')\n",
    "data_df.head()"
   ]
  },
  {
   "cell_type": "code",
   "execution_count": 3,
   "id": "f92acf2f",
   "metadata": {
    "execution": {
     "iopub.execute_input": "2024-01-26T23:33:08.683618Z",
     "iopub.status.busy": "2024-01-26T23:33:08.682942Z",
     "iopub.status.idle": "2024-01-26T23:33:08.692694Z",
     "shell.execute_reply": "2024-01-26T23:33:08.691607Z"
    },
    "papermill": {
     "duration": 0.020393,
     "end_time": "2024-01-26T23:33:08.694928",
     "exception": false,
     "start_time": "2024-01-26T23:33:08.674535",
     "status": "completed"
    },
    "tags": []
   },
   "outputs": [
    {
     "data": {
      "text/plain": [
       "Age               0\n",
       "Sex               0\n",
       "ChestPainType     0\n",
       "RestingBP         0\n",
       "Cholesterol       0\n",
       "FastingBS         0\n",
       "RestingECG        0\n",
       "MaxHR             0\n",
       "ExerciseAngina    0\n",
       "Oldpeak           0\n",
       "ST_Slope          0\n",
       "HeartDisease      0\n",
       "dtype: int64"
      ]
     },
     "execution_count": 3,
     "metadata": {},
     "output_type": "execute_result"
    }
   ],
   "source": [
    "# Check for missing values\n",
    "data_df.isna().sum()"
   ]
  },
  {
   "cell_type": "markdown",
   "id": "8fc7c267",
   "metadata": {
    "papermill": {
     "duration": 0.007138,
     "end_time": "2024-01-26T23:33:08.709346",
     "exception": false,
     "start_time": "2024-01-26T23:33:08.702208",
     "status": "completed"
    },
    "tags": []
   },
   "source": [
    "There are no missing values in our data."
   ]
  },
  {
   "cell_type": "code",
   "execution_count": 4,
   "id": "976bd799",
   "metadata": {
    "execution": {
     "iopub.execute_input": "2024-01-26T23:33:08.726532Z",
     "iopub.status.busy": "2024-01-26T23:33:08.726124Z",
     "iopub.status.idle": "2024-01-26T23:33:08.750450Z",
     "shell.execute_reply": "2024-01-26T23:33:08.749398Z"
    },
    "papermill": {
     "duration": 0.035537,
     "end_time": "2024-01-26T23:33:08.752819",
     "exception": false,
     "start_time": "2024-01-26T23:33:08.717282",
     "status": "completed"
    },
    "tags": []
   },
   "outputs": [
    {
     "name": "stdout",
     "output_type": "stream",
     "text": [
      "<class 'pandas.core.frame.DataFrame'>\n",
      "RangeIndex: 918 entries, 0 to 917\n",
      "Data columns (total 12 columns):\n",
      " #   Column          Non-Null Count  Dtype  \n",
      "---  ------          --------------  -----  \n",
      " 0   Age             918 non-null    int64  \n",
      " 1   Sex             918 non-null    object \n",
      " 2   ChestPainType   918 non-null    object \n",
      " 3   RestingBP       918 non-null    int64  \n",
      " 4   Cholesterol     918 non-null    int64  \n",
      " 5   FastingBS       918 non-null    int64  \n",
      " 6   RestingECG      918 non-null    object \n",
      " 7   MaxHR           918 non-null    int64  \n",
      " 8   ExerciseAngina  918 non-null    object \n",
      " 9   Oldpeak         918 non-null    float64\n",
      " 10  ST_Slope        918 non-null    object \n",
      " 11  HeartDisease    918 non-null    int64  \n",
      "dtypes: float64(1), int64(6), object(5)\n",
      "memory usage: 86.2+ KB\n"
     ]
    }
   ],
   "source": [
    "# Inspect data types\n",
    "data_df.info()"
   ]
  },
  {
   "cell_type": "code",
   "execution_count": 5,
   "id": "1ba9aa6e",
   "metadata": {
    "execution": {
     "iopub.execute_input": "2024-01-26T23:33:08.769743Z",
     "iopub.status.busy": "2024-01-26T23:33:08.769027Z",
     "iopub.status.idle": "2024-01-26T23:33:08.780544Z",
     "shell.execute_reply": "2024-01-26T23:33:08.779670Z"
    },
    "papermill": {
     "duration": 0.022337,
     "end_time": "2024-01-26T23:33:08.782635",
     "exception": false,
     "start_time": "2024-01-26T23:33:08.760298",
     "status": "completed"
    },
    "tags": []
   },
   "outputs": [
    {
     "data": {
      "text/plain": [
       "Age                50\n",
       "Sex                 2\n",
       "ChestPainType       4\n",
       "RestingBP          67\n",
       "Cholesterol       222\n",
       "FastingBS           2\n",
       "RestingECG          3\n",
       "MaxHR             119\n",
       "ExerciseAngina      2\n",
       "Oldpeak            53\n",
       "ST_Slope            3\n",
       "HeartDisease        2\n",
       "dtype: int64"
      ]
     },
     "execution_count": 5,
     "metadata": {},
     "output_type": "execute_result"
    }
   ],
   "source": [
    "# Inspect unique values\n",
    "data_df.nunique()"
   ]
  },
  {
   "cell_type": "markdown",
   "id": "dbc5a7ac",
   "metadata": {
    "papermill": {
     "duration": 0.007211,
     "end_time": "2024-01-26T23:33:08.797658",
     "exception": false,
     "start_time": "2024-01-26T23:33:08.790447",
     "status": "completed"
    },
    "tags": []
   },
   "source": [
    "* Age, RestingBP, Cholesterol, MaxHR, Oldpeak all have multiple different numerical values\n",
    "* HeartDisease, FastingBS are binary features with numerical datatypes\n",
    "* Sex, ExerciseAngina are binary features of object type\n",
    "* ChestPaintType, ST_Slope, RestingECG are text features with multiple categories\n",
    "\n",
    "Depending on the model we will use, there might be a need to convert categorical features into numbers  I do not have enough medical knowledge to decide if some of those categories should be ranked. \n",
    "For tree based models we can keep the features as text. For models like logistic progression using one hot encoding is necessary.\n",
    "For now we will create two versions of this dataset - one with all columns encoded, and one with only binary features encoded."
   ]
  },
  {
   "cell_type": "code",
   "execution_count": 6,
   "id": "6fbe2295",
   "metadata": {
    "execution": {
     "iopub.execute_input": "2024-01-26T23:33:08.814828Z",
     "iopub.status.busy": "2024-01-26T23:33:08.814434Z",
     "iopub.status.idle": "2024-01-26T23:33:08.820074Z",
     "shell.execute_reply": "2024-01-26T23:33:08.819013Z"
    },
    "papermill": {
     "duration": 0.017013,
     "end_time": "2024-01-26T23:33:08.822110",
     "exception": false,
     "start_time": "2024-01-26T23:33:08.805097",
     "status": "completed"
    },
    "tags": []
   },
   "outputs": [],
   "source": [
    "# Given the information from the previous two cells we can split the features into numerical, binary, categorical\n",
    "numerical = ['Age', 'RestingBP', 'Cholesterol', 'MaxHR', 'Oldpeak']\n",
    "binary = ['Sex', 'FastingBS', 'ExerciseAngina']\n",
    "categorical = ['ChestPainType', 'ST_Slope', 'RestingECG']\n",
    "\n",
    "target = 'HeartDisease'"
   ]
  },
  {
   "cell_type": "code",
   "execution_count": 7,
   "id": "8b4e8896",
   "metadata": {
    "execution": {
     "iopub.execute_input": "2024-01-26T23:33:08.839891Z",
     "iopub.status.busy": "2024-01-26T23:33:08.839496Z",
     "iopub.status.idle": "2024-01-26T23:33:08.876628Z",
     "shell.execute_reply": "2024-01-26T23:33:08.875804Z"
    },
    "papermill": {
     "duration": 0.04832,
     "end_time": "2024-01-26T23:33:08.878794",
     "exception": false,
     "start_time": "2024-01-26T23:33:08.830474",
     "status": "completed"
    },
    "tags": []
   },
   "outputs": [
    {
     "data": {
      "text/html": [
       "<div>\n",
       "<style scoped>\n",
       "    .dataframe tbody tr th:only-of-type {\n",
       "        vertical-align: middle;\n",
       "    }\n",
       "\n",
       "    .dataframe tbody tr th {\n",
       "        vertical-align: top;\n",
       "    }\n",
       "\n",
       "    .dataframe thead th {\n",
       "        text-align: right;\n",
       "    }\n",
       "</style>\n",
       "<table border=\"1\" class=\"dataframe\">\n",
       "  <thead>\n",
       "    <tr style=\"text-align: right;\">\n",
       "      <th></th>\n",
       "      <th>Age</th>\n",
       "      <th>Sex</th>\n",
       "      <th>RestingBP</th>\n",
       "      <th>Cholesterol</th>\n",
       "      <th>FastingBS</th>\n",
       "      <th>MaxHR</th>\n",
       "      <th>ExerciseAngina</th>\n",
       "      <th>Oldpeak</th>\n",
       "      <th>HeartDisease</th>\n",
       "      <th>Age</th>\n",
       "      <th>...</th>\n",
       "      <th>ChestPainType_ASY</th>\n",
       "      <th>ChestPainType_ATA</th>\n",
       "      <th>ChestPainType_NAP</th>\n",
       "      <th>ChestPainType_TA</th>\n",
       "      <th>ST_Slope_Down</th>\n",
       "      <th>ST_Slope_Flat</th>\n",
       "      <th>ST_Slope_Up</th>\n",
       "      <th>RestingECG_LVH</th>\n",
       "      <th>RestingECG_Normal</th>\n",
       "      <th>RestingECG_ST</th>\n",
       "    </tr>\n",
       "  </thead>\n",
       "  <tbody>\n",
       "    <tr>\n",
       "      <th>0</th>\n",
       "      <td>40</td>\n",
       "      <td>1</td>\n",
       "      <td>140</td>\n",
       "      <td>289</td>\n",
       "      <td>0</td>\n",
       "      <td>172</td>\n",
       "      <td>0</td>\n",
       "      <td>0.0</td>\n",
       "      <td>0</td>\n",
       "      <td>40</td>\n",
       "      <td>...</td>\n",
       "      <td>0</td>\n",
       "      <td>1</td>\n",
       "      <td>0</td>\n",
       "      <td>0</td>\n",
       "      <td>0</td>\n",
       "      <td>0</td>\n",
       "      <td>1</td>\n",
       "      <td>0</td>\n",
       "      <td>1</td>\n",
       "      <td>0</td>\n",
       "    </tr>\n",
       "    <tr>\n",
       "      <th>1</th>\n",
       "      <td>49</td>\n",
       "      <td>0</td>\n",
       "      <td>160</td>\n",
       "      <td>180</td>\n",
       "      <td>0</td>\n",
       "      <td>156</td>\n",
       "      <td>0</td>\n",
       "      <td>1.0</td>\n",
       "      <td>1</td>\n",
       "      <td>49</td>\n",
       "      <td>...</td>\n",
       "      <td>0</td>\n",
       "      <td>0</td>\n",
       "      <td>1</td>\n",
       "      <td>0</td>\n",
       "      <td>0</td>\n",
       "      <td>1</td>\n",
       "      <td>0</td>\n",
       "      <td>0</td>\n",
       "      <td>1</td>\n",
       "      <td>0</td>\n",
       "    </tr>\n",
       "    <tr>\n",
       "      <th>2</th>\n",
       "      <td>37</td>\n",
       "      <td>1</td>\n",
       "      <td>130</td>\n",
       "      <td>283</td>\n",
       "      <td>0</td>\n",
       "      <td>98</td>\n",
       "      <td>0</td>\n",
       "      <td>0.0</td>\n",
       "      <td>0</td>\n",
       "      <td>37</td>\n",
       "      <td>...</td>\n",
       "      <td>0</td>\n",
       "      <td>1</td>\n",
       "      <td>0</td>\n",
       "      <td>0</td>\n",
       "      <td>0</td>\n",
       "      <td>0</td>\n",
       "      <td>1</td>\n",
       "      <td>0</td>\n",
       "      <td>0</td>\n",
       "      <td>1</td>\n",
       "    </tr>\n",
       "    <tr>\n",
       "      <th>3</th>\n",
       "      <td>48</td>\n",
       "      <td>0</td>\n",
       "      <td>138</td>\n",
       "      <td>214</td>\n",
       "      <td>0</td>\n",
       "      <td>108</td>\n",
       "      <td>1</td>\n",
       "      <td>1.5</td>\n",
       "      <td>1</td>\n",
       "      <td>48</td>\n",
       "      <td>...</td>\n",
       "      <td>1</td>\n",
       "      <td>0</td>\n",
       "      <td>0</td>\n",
       "      <td>0</td>\n",
       "      <td>0</td>\n",
       "      <td>1</td>\n",
       "      <td>0</td>\n",
       "      <td>0</td>\n",
       "      <td>1</td>\n",
       "      <td>0</td>\n",
       "    </tr>\n",
       "    <tr>\n",
       "      <th>4</th>\n",
       "      <td>54</td>\n",
       "      <td>1</td>\n",
       "      <td>150</td>\n",
       "      <td>195</td>\n",
       "      <td>0</td>\n",
       "      <td>122</td>\n",
       "      <td>0</td>\n",
       "      <td>0.0</td>\n",
       "      <td>0</td>\n",
       "      <td>54</td>\n",
       "      <td>...</td>\n",
       "      <td>0</td>\n",
       "      <td>0</td>\n",
       "      <td>1</td>\n",
       "      <td>0</td>\n",
       "      <td>0</td>\n",
       "      <td>0</td>\n",
       "      <td>1</td>\n",
       "      <td>0</td>\n",
       "      <td>1</td>\n",
       "      <td>0</td>\n",
       "    </tr>\n",
       "  </tbody>\n",
       "</table>\n",
       "<p>5 rows × 28 columns</p>\n",
       "</div>"
      ],
      "text/plain": [
       "   Age  Sex  RestingBP  Cholesterol  FastingBS  MaxHR  ExerciseAngina  \\\n",
       "0   40    1        140          289          0    172               0   \n",
       "1   49    0        160          180          0    156               0   \n",
       "2   37    1        130          283          0     98               0   \n",
       "3   48    0        138          214          0    108               1   \n",
       "4   54    1        150          195          0    122               0   \n",
       "\n",
       "   Oldpeak  HeartDisease  Age  ...  ChestPainType_ASY  ChestPainType_ATA  \\\n",
       "0      0.0             0   40  ...                  0                  1   \n",
       "1      1.0             1   49  ...                  0                  0   \n",
       "2      0.0             0   37  ...                  0                  1   \n",
       "3      1.5             1   48  ...                  1                  0   \n",
       "4      0.0             0   54  ...                  0                  0   \n",
       "\n",
       "   ChestPainType_NAP  ChestPainType_TA  ST_Slope_Down  ST_Slope_Flat  \\\n",
       "0                  0                 0              0              0   \n",
       "1                  1                 0              0              1   \n",
       "2                  0                 0              0              0   \n",
       "3                  0                 0              0              1   \n",
       "4                  1                 0              0              0   \n",
       "\n",
       "   ST_Slope_Up  RestingECG_LVH  RestingECG_Normal  RestingECG_ST  \n",
       "0            1               0                  1              0  \n",
       "1            0               0                  1              0  \n",
       "2            1               0                  0              1  \n",
       "3            0               0                  1              0  \n",
       "4            1               0                  1              0  \n",
       "\n",
       "[5 rows x 28 columns]"
      ]
     },
     "execution_count": 7,
     "metadata": {},
     "output_type": "execute_result"
    }
   ],
   "source": [
    "data_df['Sex'] = data_df['Sex'].map({'M':1, 'F':0}).astype(int)\n",
    "data_df['ExerciseAngina'] = data_df['ExerciseAngina'].map({'Y':1, 'N':0}).astype(int)\n",
    "\n",
    "data_df_encoded = data_df.copy() \n",
    "data_df_encoded = pd.concat([data_df_encoded, pd.get_dummies(data_df_encoded, columns=categorical, dtype=int, drop_first=False)], axis=1)\n",
    "for col in categorical:\n",
    "    data_df_encoded.drop(col, axis=1, inplace=True)\n",
    "data_df_encoded.head()\n",
    "# for col in categorical:\n",
    "#     data_df_encoded[col] = "
   ]
  },
  {
   "cell_type": "code",
   "execution_count": 8,
   "id": "d641041b",
   "metadata": {
    "execution": {
     "iopub.execute_input": "2024-01-26T23:33:08.896414Z",
     "iopub.status.busy": "2024-01-26T23:33:08.895847Z",
     "iopub.status.idle": "2024-01-26T23:33:08.905530Z",
     "shell.execute_reply": "2024-01-26T23:33:08.904546Z"
    },
    "papermill": {
     "duration": 0.020971,
     "end_time": "2024-01-26T23:33:08.907926",
     "exception": false,
     "start_time": "2024-01-26T23:33:08.886955",
     "status": "completed"
    },
    "tags": []
   },
   "outputs": [
    {
     "name": "stdout",
     "output_type": "stream",
     "text": [
      "HeartDisease\n",
      "1    508\n",
      "0    410\n",
      "Name: count, dtype: int64\n"
     ]
    },
    {
     "data": {
      "text/plain": [
       "HeartDisease\n",
       "1    0.553377\n",
       "0    0.446623\n",
       "Name: proportion, dtype: float64"
      ]
     },
     "execution_count": 8,
     "metadata": {},
     "output_type": "execute_result"
    }
   ],
   "source": [
    "# checking if our dataset is balanced\n",
    "print(data_df[target].value_counts())\n",
    "data_df[target].value_counts(normalize=True)"
   ]
  },
  {
   "cell_type": "markdown",
   "id": "9d12ba3b",
   "metadata": {
    "papermill": {
     "duration": 0.00836,
     "end_time": "2024-01-26T23:33:08.924411",
     "exception": false,
     "start_time": "2024-01-26T23:33:08.916051",
     "status": "completed"
    },
    "tags": []
   },
   "source": [
    "We need to check the distribution of our target value to know whether our dataset is balanced. A balance dataset has a similar number of examples for each value of the target variable. In our case the split is 55 to 45%. This information is crucial  for deciding how to split our dataset for training, what metric to use to score our model and what type of model to use."
   ]
  },
  {
   "cell_type": "code",
   "execution_count": 9,
   "id": "b46e50b8",
   "metadata": {
    "execution": {
     "iopub.execute_input": "2024-01-26T23:33:08.942101Z",
     "iopub.status.busy": "2024-01-26T23:33:08.941734Z",
     "iopub.status.idle": "2024-01-26T23:33:09.695719Z",
     "shell.execute_reply": "2024-01-26T23:33:09.694674Z"
    },
    "papermill": {
     "duration": 0.76577,
     "end_time": "2024-01-26T23:33:09.698306",
     "exception": false,
     "start_time": "2024-01-26T23:33:08.932536",
     "status": "completed"
    },
    "tags": []
   },
   "outputs": [
    {
     "data": {
      "text/plain": [
       "<Axes: >"
      ]
     },
     "execution_count": 9,
     "metadata": {},
     "output_type": "execute_result"
    },
    {
     "data": {
      "image/png": "[encoded data removed]",
      "text/plain": [
       "<Figure size 1100x900 with 2 Axes>"
      ]
     },
     "metadata": {},
     "output_type": "display_data"
    }
   ],
   "source": [
    "# correlation\n",
    "# num_bin = numerical.copy()\n",
    "# num_bin.extend(binary)\n",
    "# num_bin_targ = num_bin.copy()\n",
    "# num_bin_targ.append(target)\n",
    "\n",
    "# Compute the correlation matrix\n",
    "corr = data_df_encoded.corr()\n",
    "\n",
    "# Generate a mask for the upper triangle\n",
    "mask = np.triu(np.ones_like(corr, dtype=bool))\n",
    "\n",
    "# Set up the matplotlib figure\n",
    "f, ax = plt.subplots(figsize=(11, 9))\n",
    "\n",
    "# Generate a custom diverging colormap\n",
    "cmap = sns.diverging_palette(230, 20, as_cmap=True)\n",
    "\n",
    "# Draw the heatmap with the mask and correct aspect ratio\n",
    "sns.heatmap(corr, mask=mask, cmap=cmap, vmax=.3, center=0,\n",
    "            square=True, linewidths=.5, cbar_kws={\"shrink\": .5})"
   ]
  },
  {
   "cell_type": "code",
   "execution_count": 10,
   "id": "8e67baae",
   "metadata": {
    "execution": {
     "iopub.execute_input": "2024-01-26T23:33:09.720758Z",
     "iopub.status.busy": "2024-01-26T23:33:09.720324Z",
     "iopub.status.idle": "2024-01-26T23:33:09.731177Z",
     "shell.execute_reply": "2024-01-26T23:33:09.729796Z"
    },
    "papermill": {
     "duration": 0.024741,
     "end_time": "2024-01-26T23:33:09.733071",
     "exception": false,
     "start_time": "2024-01-26T23:33:09.708330",
     "status": "completed"
    },
    "tags": []
   },
   "outputs": [
    {
     "name": "stdout",
     "output_type": "stream",
     "text": [
      "ST_Slope_Flat      ST_Slope_Up         -0.870951\n",
      "ST_Slope_Up        ST_Slope_Flat       -0.870951\n",
      "RestingECG_Normal  RestingECG_LVH      -0.623227\n",
      "RestingECG_LVH     RestingECG_Normal   -0.623227\n",
      "HeartDisease       ST_Slope_Up         -0.622164\n",
      "ST_Slope_Up        HeartDisease        -0.622164\n",
      "HeartDisease       ST_Slope_Up         -0.622164\n",
      "ST_Slope_Up        HeartDisease        -0.622164\n",
      "RestingECG_ST      RestingECG_Normal   -0.602314\n",
      "RestingECG_Normal  RestingECG_ST       -0.602314\n",
      "ChestPainType_ASY  ChestPainType_NAP   -0.577670\n",
      "ChestPainType_NAP  ChestPainType_ASY   -0.577670\n",
      "ChestPainType_ASY  ChestPainType_ATA   -0.522432\n",
      "ChestPainType_ATA  ChestPainType_ASY   -0.522432\n",
      "ST_Slope_Up        ExerciseAngina      -0.455676\n",
      "ExerciseAngina     ST_Slope_Up         -0.455676\n",
      "                   ST_Slope_Up         -0.455676\n",
      "ST_Slope_Up        ExerciseAngina      -0.455676\n",
      "Oldpeak            ST_Slope_Up         -0.450577\n",
      "ST_Slope_Up        Oldpeak             -0.450577\n",
      "dtype: float64\n"
     ]
    }
   ],
   "source": [
    "s = corr.unstack().sort_values()\n",
    "print(s[0:20])"
   ]
  },
  {
   "cell_type": "markdown",
   "id": "25d55924",
   "metadata": {
    "papermill": {
     "duration": 0.009906,
     "end_time": "2024-01-26T23:33:09.753394",
     "exception": false,
     "start_time": "2024-01-26T23:33:09.743488",
     "status": "completed"
    },
    "tags": []
   },
   "source": [
    "There are no high values for positive correlation between variables. There are negative correlations between various values of the same category but that is to be expected. There seems to be some correlation between our target and ST_Slope."
   ]
  },
  {
   "cell_type": "code",
   "execution_count": 11,
   "id": "5decc579",
   "metadata": {
    "execution": {
     "iopub.execute_input": "2024-01-26T23:33:09.775252Z",
     "iopub.status.busy": "2024-01-26T23:33:09.774176Z",
     "iopub.status.idle": "2024-01-26T23:33:10.863924Z",
     "shell.execute_reply": "2024-01-26T23:33:10.863093Z"
    },
    "papermill": {
     "duration": 1.103233,
     "end_time": "2024-01-26T23:33:10.866449",
     "exception": false,
     "start_time": "2024-01-26T23:33:09.763216",
     "status": "completed"
    },
    "tags": []
   },
   "outputs": [
    {
     "data": {
      "image/png": "[encoded data removed]",
      "text/plain": [
       "<Figure size 2000x800 with 10 Axes>"
      ]
     },
     "metadata": {},
     "output_type": "display_data"
    }
   ],
   "source": [
    "# First we inspect our data distribution for each column.\n",
    "fig, axs = plt.subplots(2, 5, sharex=False, sharey=False, figsize=(20, 8))\n",
    "\n",
    "for i, col in enumerate(numerical):\n",
    "    sns.violinplot(x=data_df[col], ax=axs[0, i])\n",
    "    sns.boxplot(x=data_df[col], ax=axs[1, i])\n",
    "\n",
    "    \n",
    "plt.show()"
   ]
  },
  {
   "cell_type": "markdown",
   "id": "82a9a6b1",
   "metadata": {
    "papermill": {
     "duration": 0.011003,
     "end_time": "2024-01-26T23:33:10.888903",
     "exception": false,
     "start_time": "2024-01-26T23:33:10.877900",
     "status": "completed"
    },
    "tags": []
   },
   "source": []
  },
  {
   "cell_type": "code",
   "execution_count": 12,
   "id": "2ea322c4",
   "metadata": {
    "execution": {
     "iopub.execute_input": "2024-01-26T23:33:10.913822Z",
     "iopub.status.busy": "2024-01-26T23:33:10.912860Z",
     "iopub.status.idle": "2024-01-26T23:33:11.531249Z",
     "shell.execute_reply": "2024-01-26T23:33:11.530150Z"
    },
    "papermill": {
     "duration": 0.633659,
     "end_time": "2024-01-26T23:33:11.533775",
     "exception": false,
     "start_time": "2024-01-26T23:33:10.900116",
     "status": "completed"
    },
    "tags": []
   },
   "outputs": [
    {
     "data": {
      "image/png": "[encoded data removed]",
      "text/plain": [
       "<Figure size 2400x400 with 6 Axes>"
      ]
     },
     "metadata": {},
     "output_type": "display_data"
    }
   ],
   "source": [
    "# Now we will analyze categorical featuers\n",
    "fig, axs = plt.subplots(1, 6, sharex=False, sharey=False, figsize=(24, 4))\n",
    "\n",
    "for i, col in enumerate(binary+categorical):\n",
    "    ax = sns.countplot(data=data_df, x=col, ax=axs[i], hue=target)\n",
    "    ax.bar_label(ax.containers[0])\n",
    "    ax.bar_label(ax.containers[1])\n",
    "    ax.set_yticks([])\n",
    "    ax.set_ylabel('')\n",
    "    ax.get_legend().remove()\n",
    "#     ax.set_xticks([])\n",
    "plt.figlegend(['No', 'Yes'], title=\"Heart Failure\")\n",
    "plt.show()"
   ]
  },
  {
   "cell_type": "markdown",
   "id": "b7ee59a2",
   "metadata": {
    "papermill": {
     "duration": 0.012133,
     "end_time": "2024-01-26T23:33:11.558210",
     "exception": false,
     "start_time": "2024-01-26T23:33:11.546077",
     "status": "completed"
    },
    "tags": []
   },
   "source": [
    "None of the feature combinations show any significant correlation."
   ]
  },
  {
   "cell_type": "markdown",
   "id": "05646b56",
   "metadata": {
    "papermill": {
     "duration": 0.011997,
     "end_time": "2024-01-26T23:33:11.582380",
     "exception": false,
     "start_time": "2024-01-26T23:33:11.570383",
     "status": "completed"
    },
    "tags": []
   },
   "source": [
    "# 2. Splitting and Transforming Data"
   ]
  },
  {
   "cell_type": "markdown",
   "id": "f59aef60",
   "metadata": {
    "papermill": {
     "duration": 0.011848,
     "end_time": "2024-01-26T23:33:11.606685",
     "exception": false,
     "start_time": "2024-01-26T23:33:11.594837",
     "status": "completed"
    },
    "tags": []
   },
   "source": [
    "First we need to split our data. We will use a 80/10/10 split. The first part will be  used for model training and hyperparameter tuning. We will use a stratified k-fold so as not to split the data any further. The first 10% will be used to select the best model architecture. The last 10% will be used to evaluate our best model. "
   ]
  },
  {
   "cell_type": "code",
   "execution_count": 13,
   "id": "c8aafb1e",
   "metadata": {
    "execution": {
     "iopub.execute_input": "2024-01-26T23:33:11.632196Z",
     "iopub.status.busy": "2024-01-26T23:33:11.631839Z",
     "iopub.status.idle": "2024-01-26T23:33:11.644305Z",
     "shell.execute_reply": "2024-01-26T23:33:11.643311Z"
    },
    "papermill": {
     "duration": 0.027858,
     "end_time": "2024-01-26T23:33:11.646473",
     "exception": false,
     "start_time": "2024-01-26T23:33:11.618615",
     "status": "completed"
    },
    "tags": []
   },
   "outputs": [
    {
     "name": "stdout",
     "output_type": "stream",
     "text": [
      "(734, 11) (92, 11) (92, 11) (734,) (92,) (92,)\n"
     ]
    }
   ],
   "source": [
    "from sklearn.model_selection import train_test_split\n",
    "\n",
    "Y = data_df['HeartDisease']\n",
    "X = data_df.drop('HeartDisease', axis=1)\n",
    "X_train_df, X_test_df, y_train_df, y_test_df = train_test_split(X, Y, test_size=0.2, random_state=0)\n",
    "X_validation_df, X_test_df, y_validation_df, y_test_df = train_test_split(X_test_df, y_test_df, test_size=0.5, random_state=0)\n",
    "\n",
    "print(X_train_df.shape, X_test_df.shape, X_validation_df.shape, y_train_df.shape, y_test_df.shape, y_validation_df.shape)"
   ]
  },
  {
   "cell_type": "code",
   "execution_count": 14,
   "id": "52199527",
   "metadata": {
    "execution": {
     "iopub.execute_input": "2024-01-26T23:33:11.672425Z",
     "iopub.status.busy": "2024-01-26T23:33:11.671795Z",
     "iopub.status.idle": "2024-01-26T23:33:11.965098Z",
     "shell.execute_reply": "2024-01-26T23:33:11.963993Z"
    },
    "papermill": {
     "duration": 0.308761,
     "end_time": "2024-01-26T23:33:11.967318",
     "exception": false,
     "start_time": "2024-01-26T23:33:11.658557",
     "status": "completed"
    },
    "tags": []
   },
   "outputs": [
    {
     "name": "stdout",
     "output_type": "stream",
     "text": [
      "Index(['Age', 'Sex', 'RestingBP', 'Cholesterol', 'FastingBS', 'MaxHR',\n",
      "       'ExerciseAngina', 'Oldpeak'],\n",
      "      dtype='object') Index(['ChestPainType', 'RestingECG', 'ST_Slope'], dtype='object')\n"
     ]
    }
   ],
   "source": [
    "# important dependencies\n",
    "from sklearn.compose import ColumnTransformer\n",
    "from sklearn.pipeline import Pipeline\n",
    "from sklearn.impute import SimpleImputer\n",
    "from sklearn.preprocessing import StandardScaler, OneHotEncoder\n",
    "\n",
    "numeric_features = X.select_dtypes(include=['int64', 'float64']).columns\n",
    "categorical_features = X.select_dtypes(include=['object']).columns\n",
    "\n",
    "print(numeric_features, categorical_features)\n",
    "\n",
    "numeric_transformer = Pipeline(steps=[\n",
    "    ('imputer', SimpleImputer(strategy='mean')),\n",
    "    ('scalar', StandardScaler())\n",
    "])\n",
    "\n",
    "categorical_transformer = Pipeline(steps=[\n",
    "    ('imputer', SimpleImputer(strategy='most_frequent')),\n",
    "    ('onehot', OneHotEncoder(dtype=int))\n",
    "])\n",
    "\n",
    "preprocessor = ColumnTransformer(transformers=[\n",
    "    ('num', numeric_transformer, numeric_features), \n",
    "    ('cat', categorical_transformer, categorical_features)\n",
    "])\n",
    "\n",
    "X_train = preprocessor.fit_transform(X_train_df)\n",
    "X_test = preprocessor.transform(X_test_df)\n",
    "X_validation = preprocessor.transform(X_validation_df)\n",
    "y_train = y_train_df.to_numpy()\n",
    "y_validation = y_validation_df.to_numpy()\n",
    "y_test = y_test_df.to_numpy()"
   ]
  },
  {
   "cell_type": "markdown",
   "id": "29244b1a",
   "metadata": {
    "papermill": {
     "duration": 0.013273,
     "end_time": "2024-01-26T23:33:11.993808",
     "exception": false,
     "start_time": "2024-01-26T23:33:11.980535",
     "status": "completed"
    },
    "tags": []
   },
   "source": [
    "# X. Model development"
   ]
  },
  {
   "cell_type": "markdown",
   "id": "47184035",
   "metadata": {
    "papermill": {
     "duration": 0.06973,
     "end_time": "2024-01-26T23:33:12.075851",
     "exception": false,
     "start_time": "2024-01-26T23:33:12.006121",
     "status": "completed"
    },
    "tags": []
   },
   "source": [
    "The key factors for our model selection are:\n",
    "- The problem: **Binary Classification**\n",
    "- Fairly balanced dataset 55%/45%.\n",
    "- Small amount of data\n",
    "-"
   ]
  },
  {
   "cell_type": "markdown",
   "id": "f5e11ff5",
   "metadata": {
    "papermill": {
     "duration": 0.012021,
     "end_time": "2024-01-26T23:33:12.100435",
     "exception": false,
     "start_time": "2024-01-26T23:33:12.088414",
     "status": "completed"
    },
    "tags": []
   },
   "source": [
    "## X.1 Importing MLFlow for experiment traciking"
   ]
  },
  {
   "cell_type": "code",
   "execution_count": 15,
   "id": "f0838979",
   "metadata": {
    "execution": {
     "iopub.execute_input": "2024-01-26T23:33:12.127419Z",
     "iopub.status.busy": "2024-01-26T23:33:12.127016Z",
     "iopub.status.idle": "2024-01-26T23:33:12.131493Z",
     "shell.execute_reply": "2024-01-26T23:33:12.130491Z"
    },
    "papermill": {
     "duration": 0.020814,
     "end_time": "2024-01-26T23:33:12.133737",
     "exception": false,
     "start_time": "2024-01-26T23:33:12.112923",
     "status": "completed"
    },
    "tags": []
   },
   "outputs": [],
   "source": [
    "#!pip install -q mlflow databricks-sdk"
   ]
  },
  {
   "cell_type": "code",
   "execution_count": 16,
   "id": "37311d2d",
   "metadata": {
    "execution": {
     "iopub.execute_input": "2024-01-26T23:33:12.160645Z",
     "iopub.status.busy": "2024-01-26T23:33:12.159903Z",
     "iopub.status.idle": "2024-01-26T23:33:12.164141Z",
     "shell.execute_reply": "2024-01-26T23:33:12.163457Z"
    },
    "papermill": {
     "duration": 0.019881,
     "end_time": "2024-01-26T23:33:12.166097",
     "exception": false,
     "start_time": "2024-01-26T23:33:12.146216",
     "status": "completed"
    },
    "tags": []
   },
   "outputs": [],
   "source": [
    "# import mlflow\n",
    "# mlflow.login()"
   ]
  },
  {
   "cell_type": "code",
   "execution_count": 17,
   "id": "0fc95f76",
   "metadata": {
    "execution": {
     "iopub.execute_input": "2024-01-26T23:33:12.193645Z",
     "iopub.status.busy": "2024-01-26T23:33:12.192774Z",
     "iopub.status.idle": "2024-01-26T23:33:12.196879Z",
     "shell.execute_reply": "2024-01-26T23:33:12.196165Z"
    },
    "papermill": {
     "duration": 0.019913,
     "end_time": "2024-01-26T23:33:12.198808",
     "exception": false,
     "start_time": "2024-01-26T23:33:12.178895",
     "status": "completed"
    },
    "tags": []
   },
   "outputs": [],
   "source": [
    "# mlflow.set_tracking_uri(\"databricks\")"
   ]
  },
  {
   "cell_type": "code",
   "execution_count": 18,
   "id": "1c16b3eb",
   "metadata": {
    "execution": {
     "iopub.execute_input": "2024-01-26T23:33:12.225593Z",
     "iopub.status.busy": "2024-01-26T23:33:12.225179Z",
     "iopub.status.idle": "2024-01-26T23:33:12.229141Z",
     "shell.execute_reply": "2024-01-26T23:33:12.228101Z"
    },
    "papermill": {
     "duration": 0.019857,
     "end_time": "2024-01-26T23:33:12.231275",
     "exception": false,
     "start_time": "2024-01-26T23:33:12.211418",
     "status": "completed"
    },
    "tags": []
   },
   "outputs": [],
   "source": [
    "# mlflow.set_experiment(\"/heart-rate-pred\")\n",
    "\n",
    "# with mlflow.start_run():\n",
    "#     mlflow.log_metric(\"foo\", 3)\n",
    "#     mlflow.log_metric(\"bar\", 4)"
   ]
  },
  {
   "cell_type": "code",
   "execution_count": 19,
   "id": "181fa9a9",
   "metadata": {
    "execution": {
     "iopub.execute_input": "2024-01-26T23:33:12.257805Z",
     "iopub.status.busy": "2024-01-26T23:33:12.257439Z",
     "iopub.status.idle": "2024-01-26T23:33:12.260958Z",
     "shell.execute_reply": "2024-01-26T23:33:12.260279Z"
    },
    "papermill": {
     "duration": 0.01917,
     "end_time": "2024-01-26T23:33:12.262873",
     "exception": false,
     "start_time": "2024-01-26T23:33:12.243703",
     "status": "completed"
    },
    "tags": []
   },
   "outputs": [],
   "source": [
    "def train_a_model():\n",
    "    pass"
   ]
  },
  {
   "cell_type": "markdown",
   "id": "108a4100",
   "metadata": {
    "papermill": {
     "duration": 0.011866,
     "end_time": "2024-01-26T23:33:12.287215",
     "exception": false,
     "start_time": "2024-01-26T23:33:12.275349",
     "status": "completed"
    },
    "tags": []
   },
   "source": [
    "## X.3 Decision Tree"
   ]
  },
  {
   "cell_type": "code",
   "execution_count": 20,
   "id": "d0d521bf",
   "metadata": {
    "execution": {
     "iopub.execute_input": "2024-01-26T23:33:12.314312Z",
     "iopub.status.busy": "2024-01-26T23:33:12.313308Z",
     "iopub.status.idle": "2024-01-26T23:33:13.747129Z",
     "shell.execute_reply": "2024-01-26T23:33:13.746073Z"
    },
    "papermill": {
     "duration": 1.451228,
     "end_time": "2024-01-26T23:33:13.750892",
     "exception": false,
     "start_time": "2024-01-26T23:33:12.299664",
     "status": "completed"
    },
    "tags": []
   },
   "outputs": [
    {
     "name": "stdout",
     "output_type": "stream",
     "text": [
      "Fitting 5 folds for each of 65 candidates, totalling 325 fits\n",
      "[CV 1/5] END max_depth=10, max_features=1; AUC: (test=0.838) Accuracy: (test=0.837) total time=   0.0s\n",
      "[CV 2/5] END max_depth=10, max_features=1; AUC: (test=0.828) Accuracy: (test=0.823) total time=   0.0s\n",
      "[CV 3/5] END max_depth=10, max_features=1; AUC: (test=0.753) Accuracy: (test=0.769) total time=   0.0s\n",
      "[CV 4/5] END max_depth=10, max_features=1; AUC: (test=0.827) Accuracy: (test=0.810) total time=   0.0s\n",
      "[CV 5/5] END max_depth=10, max_features=1; AUC: (test=0.821) Accuracy: (test=0.808) total time=   0.0s\n",
      "[CV 1/5] END max_depth=10, max_features=2; AUC: (test=0.847) Accuracy: (test=0.810) total time=   0.0s\n",
      "[CV 2/5] END max_depth=10, max_features=2; AUC: (test=0.847) Accuracy: (test=0.844) total time=   0.0s\n",
      "[CV 3/5] END max_depth=10, max_features=2; AUC: (test=0.819) Accuracy: (test=0.755) total time=   0.0s\n",
      "[CV 4/5] END max_depth=10, max_features=2; AUC: (test=0.854) Accuracy: (test=0.837) total time=   0.0s\n",
      "[CV 5/5] END max_depth=10, max_features=2; AUC: (test=0.761) Accuracy: (test=0.760) total time=   0.0s\n",
      "[CV 1/5] END max_depth=10, max_features=3; AUC: (test=0.799) Accuracy: (test=0.789) total time=   0.0s\n",
      "[CV 2/5] END max_depth=10, max_features=3; AUC: (test=0.854) Accuracy: (test=0.850) total time=   0.0s\n",
      "[CV 3/5] END max_depth=10, max_features=3; AUC: (test=0.785) Accuracy: (test=0.782) total time=   0.0s\n",
      "[CV 4/5] END max_depth=10, max_features=3; AUC: (test=0.789) Accuracy: (test=0.810) total time=   0.0s\n",
      "[CV 5/5] END max_depth=10, max_features=3; AUC: (test=0.799) Accuracy: (test=0.788) total time=   0.0s\n",
      "[CV 1/5] END max_depth=10, max_features=4; AUC: (test=0.777) Accuracy: (test=0.803) total time=   0.0s\n",
      "[CV 2/5] END max_depth=10, max_features=4; AUC: (test=0.805) Accuracy: (test=0.796) total time=   0.0s\n",
      "[CV 3/5] END max_depth=10, max_features=4; AUC: (test=0.799) Accuracy: (test=0.796) total time=   0.0s\n",
      "[CV 4/5] END max_depth=10, max_features=4; AUC: (test=0.804) Accuracy: (test=0.816) total time=   0.0s\n",
      "[CV 5/5] END max_depth=10, max_features=4; AUC: (test=0.789) Accuracy: (test=0.795) total time=   0.0s\n",
      "[CV 1/5] END max_depth=10, max_features=5; AUC: (test=0.836) Accuracy: (test=0.830) total time=   0.0s\n",
      "[CV 2/5] END max_depth=10, max_features=5; AUC: (test=0.811) Accuracy: (test=0.837) total time=   0.0s\n",
      "[CV 3/5] END max_depth=10, max_features=5; AUC: (test=0.768) Accuracy: (test=0.782) total time=   0.0s\n",
      "[CV 4/5] END max_depth=10, max_features=5; AUC: (test=0.825) Accuracy: (test=0.837) total time=   0.0s\n",
      "[CV 5/5] END max_depth=10, max_features=5; AUC: (test=0.830) Accuracy: (test=0.822) total time=   0.0s\n",
      "[CV 1/5] END max_depth=10, max_features=6; AUC: (test=0.788) Accuracy: (test=0.782) total time=   0.0s\n",
      "[CV 2/5] END max_depth=10, max_features=6; AUC: (test=0.833) Accuracy: (test=0.837) total time=   0.0s\n",
      "[CV 3/5] END max_depth=10, max_features=6; AUC: (test=0.764) Accuracy: (test=0.755) total time=   0.0s\n",
      "[CV 4/5] END max_depth=10, max_features=6; AUC: (test=0.828) Accuracy: (test=0.816) total time=   0.0s\n",
      "[CV 5/5] END max_depth=10, max_features=6; AUC: (test=0.794) Accuracy: (test=0.822) total time=   0.0s\n",
      "[CV 1/5] END max_depth=10, max_features=7; AUC: (test=0.766) Accuracy: (test=0.769) total time=   0.0s\n",
      "[CV 2/5] END max_depth=10, max_features=7; AUC: (test=0.821) Accuracy: (test=0.823) total time=   0.0s\n",
      "[CV 3/5] END max_depth=10, max_features=7; AUC: (test=0.834) Accuracy: (test=0.823) total time=   0.0s\n",
      "[CV 4/5] END max_depth=10, max_features=7; AUC: (test=0.822) Accuracy: (test=0.830) total time=   0.0s\n",
      "[CV 5/5] END max_depth=10, max_features=7; AUC: (test=0.817) Accuracy: (test=0.815) total time=   0.0s\n",
      "[CV 1/5] END max_depth=10, max_features=8; AUC: (test=0.793) Accuracy: (test=0.816) total time=   0.0s\n",
      "[CV 2/5] END max_depth=10, max_features=8; AUC: (test=0.843) Accuracy: (test=0.830) total time=   0.0s\n",
      "[CV 3/5] END max_depth=10, max_features=8; AUC: (test=0.837) Accuracy: (test=0.837) total time=   0.0s\n",
      "[CV 4/5] END max_depth=10, max_features=8; AUC: (test=0.799) Accuracy: (test=0.789) total time=   0.0s\n",
      "[CV 5/5] END max_depth=10, max_features=8; AUC: (test=0.825) Accuracy: (test=0.815) total time=   0.0s\n",
      "[CV 1/5] END max_depth=10, max_features=9; AUC: (test=0.801) Accuracy: (test=0.803) total time=   0.0s\n",
      "[CV 2/5] END max_depth=10, max_features=9; AUC: (test=0.864) Accuracy: (test=0.837) total time=   0.0s\n",
      "[CV 3/5] END max_depth=10, max_features=9; AUC: (test=0.794) Accuracy: (test=0.782) total time=   0.0s\n",
      "[CV 4/5] END max_depth=10, max_features=9; AUC: (test=0.808) Accuracy: (test=0.837) total time=   0.0s\n",
      "[CV 5/5] END max_depth=10, max_features=9; AUC: (test=0.790) Accuracy: (test=0.795) total time=   0.0s\n",
      "[CV 1/5] END max_depth=10, max_features=10; AUC: (test=0.751) Accuracy: (test=0.796) total time=   0.0s\n",
      "[CV 2/5] END max_depth=10, max_features=10; AUC: (test=0.785) Accuracy: (test=0.810) total time=   0.0s\n",
      "[CV 3/5] END max_depth=10, max_features=10; AUC: (test=0.816) Accuracy: (test=0.803) total time=   0.0s\n",
      "[CV 4/5] END max_depth=10, max_features=10; AUC: (test=0.784) Accuracy: (test=0.816) total time=   0.0s\n",
      "[CV 5/5] END max_depth=10, max_features=10; AUC: (test=0.846) Accuracy: (test=0.836) total time=   0.0s\n",
      "[CV 1/5] END max_depth=10, max_features=11; AUC: (test=0.819) Accuracy: (test=0.837) total time=   0.0s\n",
      "[CV 2/5] END max_depth=10, max_features=11; AUC: (test=0.798) Accuracy: (test=0.796) total time=   0.0s\n",
      "[CV 3/5] END max_depth=10, max_features=11; AUC: (test=0.793) Accuracy: (test=0.803) total time=   0.0s\n",
      "[CV 4/5] END max_depth=10, max_features=11; AUC: (test=0.805) Accuracy: (test=0.816) total time=   0.0s\n",
      "[CV 5/5] END max_depth=10, max_features=11; AUC: (test=0.804) Accuracy: (test=0.801) total time=   0.0s\n",
      "[CV 1/5] END max_depth=10, max_features=12; AUC: (test=0.816) Accuracy: (test=0.830) total time=   0.0s\n",
      "[CV 2/5] END max_depth=10, max_features=12; AUC: (test=0.826) Accuracy: (test=0.830) total time=   0.0s\n",
      "[CV 3/5] END max_depth=10, max_features=12; AUC: (test=0.826) Accuracy: (test=0.816) total time=   0.0s\n",
      "[CV 4/5] END max_depth=10, max_features=12; AUC: (test=0.835) Accuracy: (test=0.844) total time=   0.0s\n",
      "[CV 5/5] END max_depth=10, max_features=12; AUC: (test=0.811) Accuracy: (test=0.801) total time=   0.0s\n",
      "[CV 1/5] END max_depth=10, max_features=13; AUC: (test=0.809) Accuracy: (test=0.823) total time=   0.0s\n",
      "[CV 2/5] END max_depth=10, max_features=13; AUC: (test=0.776) Accuracy: (test=0.769) total time=   0.0s\n",
      "[CV 3/5] END max_depth=10, max_features=13; AUC: (test=0.842) Accuracy: (test=0.850) total time=   0.0s\n",
      "[CV 4/5] END max_depth=10, max_features=13; AUC: (test=0.823) Accuracy: (test=0.844) total time=   0.0s\n",
      "[CV 5/5] END max_depth=10, max_features=13; AUC: (test=0.803) Accuracy: (test=0.788) total time=   0.0s\n",
      "[CV 1/5] END max_depth=11, max_features=1; AUC: (test=0.759) Accuracy: (test=0.762) total time=   0.0s\n",
      "[CV 2/5] END max_depth=11, max_features=1; AUC: (test=0.812) Accuracy: (test=0.803) total time=   0.0s\n",
      "[CV 3/5] END max_depth=11, max_features=1; AUC: (test=0.797) Accuracy: (test=0.796) total time=   0.0s\n",
      "[CV 4/5] END max_depth=11, max_features=1; AUC: (test=0.781) Accuracy: (test=0.762) total time=   0.0s\n",
      "[CV 5/5] END max_depth=11, max_features=1; AUC: (test=0.784) Accuracy: (test=0.774) total time=   0.0s\n",
      "[CV 1/5] END max_depth=11, max_features=2; AUC: (test=0.786) Accuracy: (test=0.796) total time=   0.0s\n",
      "[CV 2/5] END max_depth=11, max_features=2; AUC: (test=0.866) Accuracy: (test=0.857) total time=   0.0s\n",
      "[CV 3/5] END max_depth=11, max_features=2; AUC: (test=0.787) Accuracy: (test=0.762) total time=   0.0s\n",
      "[CV 4/5] END max_depth=11, max_features=2; AUC: (test=0.793) Accuracy: (test=0.803) total time=   0.0s\n",
      "[CV 5/5] END max_depth=11, max_features=2; AUC: (test=0.775) Accuracy: (test=0.781) total time=   0.0s\n",
      "[CV 1/5] END max_depth=11, max_features=3; AUC: (test=0.818) Accuracy: (test=0.823) total time=   0.0s\n",
      "[CV 2/5] END max_depth=11, max_features=3; AUC: (test=0.777) Accuracy: (test=0.782) total time=   0.0s\n",
      "[CV 3/5] END max_depth=11, max_features=3; AUC: (test=0.765) Accuracy: (test=0.762) total time=   0.0s\n",
      "[CV 4/5] END max_depth=11, max_features=3; AUC: (test=0.778) Accuracy: (test=0.776) total time=   0.0s\n",
      "[CV 5/5] END max_depth=11, max_features=3; AUC: (test=0.790) Accuracy: (test=0.795) total time=   0.0s\n",
      "[CV 1/5] END max_depth=11, max_features=4; AUC: (test=0.759) Accuracy: (test=0.776) total time=   0.0s\n",
      "[CV 2/5] END max_depth=11, max_features=4; AUC: (test=0.784) Accuracy: (test=0.796) total time=   0.0s\n",
      "[CV 3/5] END max_depth=11, max_features=4; AUC: (test=0.851) Accuracy: (test=0.837) total time=   0.0s\n",
      "[CV 4/5] END max_depth=11, max_features=4; AUC: (test=0.803) Accuracy: (test=0.810) total time=   0.0s\n",
      "[CV 5/5] END max_depth=11, max_features=4; AUC: (test=0.830) Accuracy: (test=0.836) total time=   0.0s\n",
      "[CV 1/5] END max_depth=11, max_features=5; AUC: (test=0.799) Accuracy: (test=0.789) total time=   0.0s\n",
      "[CV 2/5] END max_depth=11, max_features=5; AUC: (test=0.783) Accuracy: (test=0.789) total time=   0.0s\n",
      "[CV 3/5] END max_depth=11, max_features=5; AUC: (test=0.768) Accuracy: (test=0.762) total time=   0.0s\n",
      "[CV 4/5] END max_depth=11, max_features=5; AUC: (test=0.819) Accuracy: (test=0.823) total time=   0.0s\n",
      "[CV 5/5] END max_depth=11, max_features=5; AUC: (test=0.828) Accuracy: (test=0.822) total time=   0.0s\n",
      "[CV 1/5] END max_depth=11, max_features=6; AUC: (test=0.795) Accuracy: (test=0.803) total time=   0.0s\n",
      "[CV 2/5] END max_depth=11, max_features=6; AUC: (test=0.807) Accuracy: (test=0.803) total time=   0.0s\n",
      "[CV 3/5] END max_depth=11, max_features=6; AUC: (test=0.780) Accuracy: (test=0.782) total time=   0.0s\n",
      "[CV 4/5] END max_depth=11, max_features=6; AUC: (test=0.779) Accuracy: (test=0.803) total time=   0.0s\n",
      "[CV 5/5] END max_depth=11, max_features=6; AUC: (test=0.827) Accuracy: (test=0.815) total time=   0.0s\n",
      "[CV 1/5] END max_depth=11, max_features=7; AUC: (test=0.788) Accuracy: (test=0.796) total time=   0.0s\n",
      "[CV 2/5] END max_depth=11, max_features=7; AUC: (test=0.812) Accuracy: (test=0.803) total time=   0.0s\n",
      "[CV 3/5] END max_depth=11, max_features=7; AUC: (test=0.786) Accuracy: (test=0.789) total time=   0.0s\n",
      "[CV 4/5] END max_depth=11, max_features=7; AUC: (test=0.767) Accuracy: (test=0.816) total time=   0.0s\n",
      "[CV 5/5] END max_depth=11, max_features=7; AUC: (test=0.790) Accuracy: (test=0.795) total time=   0.0s\n",
      "[CV 1/5] END max_depth=11, max_features=8; AUC: (test=0.806) Accuracy: (test=0.810) total time=   0.0s\n",
      "[CV 2/5] END max_depth=11, max_features=8; AUC: (test=0.796) Accuracy: (test=0.769) total time=   0.0s\n",
      "[CV 3/5] END max_depth=11, max_features=8; AUC: (test=0.842) Accuracy: (test=0.850) total time=   0.0s\n",
      "[CV 4/5] END max_depth=11, max_features=8; AUC: (test=0.753) Accuracy: (test=0.762) total time=   0.0s\n",
      "[CV 5/5] END max_depth=11, max_features=8; AUC: (test=0.815) Accuracy: (test=0.808) total time=   0.0s\n",
      "[CV 1/5] END max_depth=11, max_features=9; AUC: (test=0.816) Accuracy: (test=0.816) total time=   0.0s\n",
      "[CV 2/5] END max_depth=11, max_features=9; AUC: (test=0.866) Accuracy: (test=0.864) total time=   0.0s\n",
      "[CV 3/5] END max_depth=11, max_features=9; AUC: (test=0.793) Accuracy: (test=0.796) total time=   0.0s\n",
      "[CV 4/5] END max_depth=11, max_features=9; AUC: (test=0.818) Accuracy: (test=0.816) total time=   0.0s\n",
      "[CV 5/5] END max_depth=11, max_features=9; AUC: (test=0.788) Accuracy: (test=0.788) total time=   0.0s\n",
      "[CV 1/5] END max_depth=11, max_features=10; AUC: (test=0.801) Accuracy: (test=0.803) total time=   0.0s\n",
      "[CV 2/5] END max_depth=11, max_features=10; AUC: (test=0.802) Accuracy: (test=0.816) total time=   0.0s\n",
      "[CV 3/5] END max_depth=11, max_features=10; AUC: (test=0.801) Accuracy: (test=0.796) total time=   0.0s\n",
      "[CV 4/5] END max_depth=11, max_features=10; AUC: (test=0.814) Accuracy: (test=0.816) total time=   0.0s\n",
      "[CV 5/5] END max_depth=11, max_features=10; AUC: (test=0.797) Accuracy: (test=0.788) total time=   0.0s\n",
      "[CV 1/5] END max_depth=11, max_features=11; AUC: (test=0.836) Accuracy: (test=0.837) total time=   0.0s\n",
      "[CV 2/5] END max_depth=11, max_features=11; AUC: (test=0.805) Accuracy: (test=0.810) total time=   0.0s\n",
      "[CV 3/5] END max_depth=11, max_features=11; AUC: (test=0.767) Accuracy: (test=0.762) total time=   0.0s\n",
      "[CV 4/5] END max_depth=11, max_features=11; AUC: (test=0.803) Accuracy: (test=0.816) total time=   0.0s\n",
      "[CV 5/5] END max_depth=11, max_features=11; AUC: (test=0.737) Accuracy: (test=0.740) total time=   0.0s\n",
      "[CV 1/5] END max_depth=11, max_features=12; AUC: (test=0.772) Accuracy: (test=0.789) total time=   0.0s\n",
      "[CV 2/5] END max_depth=11, max_features=12; AUC: (test=0.817) Accuracy: (test=0.810) total time=   0.0s\n",
      "[CV 3/5] END max_depth=11, max_features=12; AUC: (test=0.746) Accuracy: (test=0.741) total time=   0.0s\n",
      "[CV 4/5] END max_depth=11, max_features=12; AUC: (test=0.823) Accuracy: (test=0.844) total time=   0.0s\n",
      "[CV 5/5] END max_depth=11, max_features=12; AUC: (test=0.793) Accuracy: (test=0.788) total time=   0.0s\n",
      "[CV 1/5] END max_depth=11, max_features=13; AUC: (test=0.810) Accuracy: (test=0.810) total time=   0.0s\n",
      "[CV 2/5] END max_depth=11, max_features=13; AUC: (test=0.793) Accuracy: (test=0.796) total time=   0.0s\n",
      "[CV 3/5] END max_depth=11, max_features=13; AUC: (test=0.765) Accuracy: (test=0.762) total time=   0.0s\n",
      "[CV 4/5] END max_depth=11, max_features=13; AUC: (test=0.869) Accuracy: (test=0.891) total time=   0.0s\n",
      "[CV 5/5] END max_depth=11, max_features=13; AUC: (test=0.791) Accuracy: (test=0.795) total time=   0.0s\n",
      "[CV 1/5] END max_depth=12, max_features=1; AUC: (test=0.732) Accuracy: (test=0.769) total time=   0.0s\n",
      "[CV 2/5] END max_depth=12, max_features=1; AUC: (test=0.833) Accuracy: (test=0.823) total time=   0.0s\n",
      "[CV 3/5] END max_depth=12, max_features=1; AUC: (test=0.721) Accuracy: (test=0.694) total time=   0.0s\n",
      "[CV 4/5] END max_depth=12, max_features=1; AUC: (test=0.771) Accuracy: (test=0.769) total time=   0.0s\n",
      "[CV 5/5] END max_depth=12, max_features=1; AUC: (test=0.783) Accuracy: (test=0.788) total time=   0.0s\n",
      "[CV 1/5] END max_depth=12, max_features=2; AUC: (test=0.789) Accuracy: (test=0.782) total time=   0.0s\n",
      "[CV 2/5] END max_depth=12, max_features=2; AUC: (test=0.745) Accuracy: (test=0.741) total time=   0.0s\n",
      "[CV 3/5] END max_depth=12, max_features=2; AUC: (test=0.776) Accuracy: (test=0.769) total time=   0.0s\n",
      "[CV 4/5] END max_depth=12, max_features=2; AUC: (test=0.804) Accuracy: (test=0.789) total time=   0.0s\n",
      "[CV 5/5] END max_depth=12, max_features=2; AUC: (test=0.815) Accuracy: (test=0.808) total time=   0.0s\n",
      "[CV 1/5] END max_depth=12, max_features=3; AUC: (test=0.786) Accuracy: (test=0.789) total time=   0.0s\n",
      "[CV 2/5] END max_depth=12, max_features=3; AUC: (test=0.841) Accuracy: (test=0.837) total time=   0.0s\n",
      "[CV 3/5] END max_depth=12, max_features=3; AUC: (test=0.750) Accuracy: (test=0.762) total time=   0.0s\n",
      "[CV 4/5] END max_depth=12, max_features=3; AUC: (test=0.826) Accuracy: (test=0.837) total time=   0.0s\n",
      "[CV 5/5] END max_depth=12, max_features=3; AUC: (test=0.820) Accuracy: (test=0.822) total time=   0.0s\n",
      "[CV 1/5] END max_depth=12, max_features=4; AUC: (test=0.779) Accuracy: (test=0.789) total time=   0.0s\n",
      "[CV 2/5] END max_depth=12, max_features=4; AUC: (test=0.832) Accuracy: (test=0.830) total time=   0.0s\n",
      "[CV 3/5] END max_depth=12, max_features=4; AUC: (test=0.798) Accuracy: (test=0.789) total time=   0.0s\n",
      "[CV 4/5] END max_depth=12, max_features=4; AUC: (test=0.842) Accuracy: (test=0.850) total time=   0.0s\n",
      "[CV 5/5] END max_depth=12, max_features=4; AUC: (test=0.808) Accuracy: (test=0.801) total time=   0.0s\n",
      "[CV 1/5] END max_depth=12, max_features=5; AUC: (test=0.801) Accuracy: (test=0.803) total time=   0.0s\n",
      "[CV 2/5] END max_depth=12, max_features=5; AUC: (test=0.827) Accuracy: (test=0.830) total time=   0.0s\n",
      "[CV 3/5] END max_depth=12, max_features=5; AUC: (test=0.764) Accuracy: (test=0.762) total time=   0.0s\n",
      "[CV 4/5] END max_depth=12, max_features=5; AUC: (test=0.835) Accuracy: (test=0.837) total time=   0.0s\n",
      "[CV 5/5] END max_depth=12, max_features=5; AUC: (test=0.712) Accuracy: (test=0.712) total time=   0.0s\n",
      "[CV 1/5] END max_depth=12, max_features=6; AUC: (test=0.795) Accuracy: (test=0.776) total time=   0.0s\n",
      "[CV 2/5] END max_depth=12, max_features=6; AUC: (test=0.798) Accuracy: (test=0.789) total time=   0.0s\n",
      "[CV 3/5] END max_depth=12, max_features=6; AUC: (test=0.761) Accuracy: (test=0.776) total time=   0.0s\n",
      "[CV 4/5] END max_depth=12, max_features=6; AUC: (test=0.844) Accuracy: (test=0.844) total time=   0.0s\n",
      "[CV 5/5] END max_depth=12, max_features=6; AUC: (test=0.790) Accuracy: (test=0.788) total time=   0.0s\n",
      "[CV 1/5] END max_depth=12, max_features=7; AUC: (test=0.805) Accuracy: (test=0.810) total time=   0.0s\n",
      "[CV 2/5] END max_depth=12, max_features=7; AUC: (test=0.870) Accuracy: (test=0.871) total time=   0.0s\n",
      "[CV 3/5] END max_depth=12, max_features=7; AUC: (test=0.806) Accuracy: (test=0.803) total time=   0.0s\n",
      "[CV 4/5] END max_depth=12, max_features=7; AUC: (test=0.857) Accuracy: (test=0.844) total time=   0.0s\n",
      "[CV 5/5] END max_depth=12, max_features=7; AUC: (test=0.831) Accuracy: (test=0.836) total time=   0.0s\n",
      "[CV 1/5] END max_depth=12, max_features=8; AUC: (test=0.800) Accuracy: (test=0.803) total time=   0.0s\n",
      "[CV 2/5] END max_depth=12, max_features=8; AUC: (test=0.842) Accuracy: (test=0.844) total time=   0.0s\n",
      "[CV 3/5] END max_depth=12, max_features=8; AUC: (test=0.805) Accuracy: (test=0.803) total time=   0.0s\n",
      "[CV 4/5] END max_depth=12, max_features=8; AUC: (test=0.784) Accuracy: (test=0.789) total time=   0.0s\n",
      "[CV 5/5] END max_depth=12, max_features=8; AUC: (test=0.773) Accuracy: (test=0.760) total time=   0.0s\n",
      "[CV 1/5] END max_depth=12, max_features=9; AUC: (test=0.808) Accuracy: (test=0.810) total time=   0.0s\n",
      "[CV 2/5] END max_depth=12, max_features=9; AUC: (test=0.782) Accuracy: (test=0.782) total time=   0.0s\n",
      "[CV 3/5] END max_depth=12, max_features=9; AUC: (test=0.762) Accuracy: (test=0.762) total time=   0.0s\n",
      "[CV 4/5] END max_depth=12, max_features=9; AUC: (test=0.791) Accuracy: (test=0.782) total time=   0.0s\n",
      "[CV 5/5] END max_depth=12, max_features=9; AUC: (test=0.752) Accuracy: (test=0.753) total time=   0.0s\n",
      "[CV 1/5] END max_depth=12, max_features=10; AUC: (test=0.774) Accuracy: (test=0.776) total time=   0.0s\n",
      "[CV 2/5] END max_depth=12, max_features=10; AUC: (test=0.848) Accuracy: (test=0.850) total time=   0.0s\n",
      "[CV 3/5] END max_depth=12, max_features=10; AUC: (test=0.779) Accuracy: (test=0.782) total time=   0.0s\n",
      "[CV 4/5] END max_depth=12, max_features=10; AUC: (test=0.782) Accuracy: (test=0.803) total time=   0.0s\n",
      "[CV 5/5] END max_depth=12, max_features=10; AUC: (test=0.817) Accuracy: (test=0.801) total time=   0.0s\n",
      "[CV 1/5] END max_depth=12, max_features=11; AUC: (test=0.808) Accuracy: (test=0.810) total time=   0.0s\n",
      "[CV 2/5] END max_depth=12, max_features=11; AUC: (test=0.800) Accuracy: (test=0.789) total time=   0.0s\n",
      "[CV 3/5] END max_depth=12, max_features=11; AUC: (test=0.821) Accuracy: (test=0.816) total time=   0.0s\n",
      "[CV 4/5] END max_depth=12, max_features=11; AUC: (test=0.828) Accuracy: (test=0.830) total time=   0.0s\n",
      "[CV 5/5] END max_depth=12, max_features=11; AUC: (test=0.817) Accuracy: (test=0.815) total time=   0.0s\n",
      "[CV 1/5] END max_depth=12, max_features=12; AUC: (test=0.778) Accuracy: (test=0.789) total time=   0.0s\n",
      "[CV 2/5] END max_depth=12, max_features=12; AUC: (test=0.814) Accuracy: (test=0.810) total time=   0.0s\n",
      "[CV 3/5] END max_depth=12, max_features=12; AUC: (test=0.773) Accuracy: (test=0.776) total time=   0.0s\n",
      "[CV 4/5] END max_depth=12, max_features=12; AUC: (test=0.783) Accuracy: (test=0.816) total time=   0.0s\n",
      "[CV 5/5] END max_depth=12, max_features=12; AUC: (test=0.791) Accuracy: (test=0.795) total time=   0.0s\n",
      "[CV 1/5] END max_depth=12, max_features=13; AUC: (test=0.759) Accuracy: (test=0.762) total time=   0.0s\n",
      "[CV 2/5] END max_depth=12, max_features=13; AUC: (test=0.793) Accuracy: (test=0.796) total time=   0.0s\n",
      "[CV 3/5] END max_depth=12, max_features=13; AUC: (test=0.753) Accuracy: (test=0.755) total time=   0.0s\n",
      "[CV 4/5] END max_depth=12, max_features=13; AUC: (test=0.810) Accuracy: (test=0.816) total time=   0.0s\n",
      "[CV 5/5] END max_depth=12, max_features=13; AUC: (test=0.838) Accuracy: (test=0.815) total time=   0.0s\n",
      "[CV 1/5] END max_depth=13, max_features=1; AUC: (test=0.706) Accuracy: (test=0.735) total time=   0.0s\n",
      "[CV 2/5] END max_depth=13, max_features=1; AUC: (test=0.746) Accuracy: (test=0.748) total time=   0.0s\n",
      "[CV 3/5] END max_depth=13, max_features=1; AUC: (test=0.722) Accuracy: (test=0.735) total time=   0.0s\n",
      "[CV 4/5] END max_depth=13, max_features=1; AUC: (test=0.812) Accuracy: (test=0.810) total time=   0.0s\n",
      "[CV 5/5] END max_depth=13, max_features=1; AUC: (test=0.770) Accuracy: (test=0.767) total time=   0.0s\n",
      "[CV 1/5] END max_depth=13, max_features=2; AUC: (test=0.782) Accuracy: (test=0.789) total time=   0.0s\n",
      "[CV 2/5] END max_depth=13, max_features=2; AUC: (test=0.797) Accuracy: (test=0.789) total time=   0.0s\n",
      "[CV 3/5] END max_depth=13, max_features=2; AUC: (test=0.771) Accuracy: (test=0.776) total time=   0.0s\n",
      "[CV 4/5] END max_depth=13, max_features=2; AUC: (test=0.752) Accuracy: (test=0.755) total time=   0.0s\n",
      "[CV 5/5] END max_depth=13, max_features=2; AUC: (test=0.782) Accuracy: (test=0.788) total time=   0.0s\n",
      "[CV 1/5] END max_depth=13, max_features=3; AUC: (test=0.821) Accuracy: (test=0.830) total time=   0.0s\n",
      "[CV 2/5] END max_depth=13, max_features=3; AUC: (test=0.839) Accuracy: (test=0.837) total time=   0.0s\n",
      "[CV 3/5] END max_depth=13, max_features=3; AUC: (test=0.734) Accuracy: (test=0.735) total time=   0.0s\n",
      "[CV 4/5] END max_depth=13, max_features=3; AUC: (test=0.800) Accuracy: (test=0.810) total time=   0.0s\n",
      "[CV 5/5] END max_depth=13, max_features=3; AUC: (test=0.761) Accuracy: (test=0.760) total time=   0.0s\n",
      "[CV 1/5] END max_depth=13, max_features=4; AUC: (test=0.786) Accuracy: (test=0.789) total time=   0.0s\n",
      "[CV 2/5] END max_depth=13, max_features=4; AUC: (test=0.757) Accuracy: (test=0.762) total time=   0.0s\n",
      "[CV 3/5] END max_depth=13, max_features=4; AUC: (test=0.807) Accuracy: (test=0.803) total time=   0.0s\n",
      "[CV 4/5] END max_depth=13, max_features=4; AUC: (test=0.837) Accuracy: (test=0.837) total time=   0.0s\n",
      "[CV 5/5] END max_depth=13, max_features=4; AUC: (test=0.813) Accuracy: (test=0.815) total time=   0.0s\n",
      "[CV 1/5] END max_depth=13, max_features=5; AUC: (test=0.802) Accuracy: (test=0.803) total time=   0.0s\n",
      "[CV 2/5] END max_depth=13, max_features=5; AUC: (test=0.785) Accuracy: (test=0.776) total time=   0.0s\n",
      "[CV 3/5] END max_depth=13, max_features=5; AUC: (test=0.790) Accuracy: (test=0.796) total time=   0.0s\n",
      "[CV 4/5] END max_depth=13, max_features=5; AUC: (test=0.815) Accuracy: (test=0.830) total time=   0.0s\n",
      "[CV 5/5] END max_depth=13, max_features=5; AUC: (test=0.806) Accuracy: (test=0.808) total time=   0.0s\n",
      "[CV 1/5] END max_depth=13, max_features=6; AUC: (test=0.803) Accuracy: (test=0.803) total time=   0.0s\n",
      "[CV 2/5] END max_depth=13, max_features=6; AUC: (test=0.790) Accuracy: (test=0.796) total time=   0.0s\n",
      "[CV 3/5] END max_depth=13, max_features=6; AUC: (test=0.829) Accuracy: (test=0.837) total time=   0.0s\n",
      "[CV 4/5] END max_depth=13, max_features=6; AUC: (test=0.863) Accuracy: (test=0.857) total time=   0.0s\n",
      "[CV 5/5] END max_depth=13, max_features=6; AUC: (test=0.814) Accuracy: (test=0.815) total time=   0.0s\n",
      "[CV 1/5] END max_depth=13, max_features=7; AUC: (test=0.832) Accuracy: (test=0.837) total time=   0.0s\n",
      "[CV 2/5] END max_depth=13, max_features=7; AUC: (test=0.804) Accuracy: (test=0.803) total time=   0.0s\n",
      "[CV 3/5] END max_depth=13, max_features=7; AUC: (test=0.756) Accuracy: (test=0.755) total time=   0.0s\n",
      "[CV 4/5] END max_depth=13, max_features=7; AUC: (test=0.761) Accuracy: (test=0.762) total time=   0.0s\n",
      "[CV 5/5] END max_depth=13, max_features=7; AUC: (test=0.785) Accuracy: (test=0.767) total time=   0.0s\n",
      "[CV 1/5] END max_depth=13, max_features=8; AUC: (test=0.785) Accuracy: (test=0.782) total time=   0.0s\n",
      "[CV 2/5] END max_depth=13, max_features=8; AUC: (test=0.805) Accuracy: (test=0.803) total time=   0.0s\n",
      "[CV 3/5] END max_depth=13, max_features=8; AUC: (test=0.768) Accuracy: (test=0.769) total time=   0.0s\n",
      "[CV 4/5] END max_depth=13, max_features=8; AUC: (test=0.844) Accuracy: (test=0.844) total time=   0.0s\n",
      "[CV 5/5] END max_depth=13, max_features=8; AUC: (test=0.834) Accuracy: (test=0.836) total time=   0.0s\n",
      "[CV 1/5] END max_depth=13, max_features=9; AUC: (test=0.794) Accuracy: (test=0.796) total time=   0.0s\n",
      "[CV 2/5] END max_depth=13, max_features=9; AUC: (test=0.811) Accuracy: (test=0.810) total time=   0.0s\n",
      "[CV 3/5] END max_depth=13, max_features=9; AUC: (test=0.743) Accuracy: (test=0.741) total time=   0.0s\n",
      "[CV 4/5] END max_depth=13, max_features=9; AUC: (test=0.831) Accuracy: (test=0.830) total time=   0.0s\n",
      "[CV 5/5] END max_depth=13, max_features=9; AUC: (test=0.854) Accuracy: (test=0.856) total time=   0.0s\n",
      "[CV 1/5] END max_depth=13, max_features=10; AUC: (test=0.807) Accuracy: (test=0.810) total time=   0.0s\n",
      "[CV 2/5] END max_depth=13, max_features=10; AUC: (test=0.743) Accuracy: (test=0.741) total time=   0.0s\n",
      "[CV 3/5] END max_depth=13, max_features=10; AUC: (test=0.805) Accuracy: (test=0.803) total time=   0.0s\n",
      "[CV 4/5] END max_depth=13, max_features=10; AUC: (test=0.809) Accuracy: (test=0.810) total time=   0.0s\n",
      "[CV 5/5] END max_depth=13, max_features=10; AUC: (test=0.813) Accuracy: (test=0.815) total time=   0.0s\n",
      "[CV 1/5] END max_depth=13, max_features=11; AUC: (test=0.805) Accuracy: (test=0.810) total time=   0.0s\n",
      "[CV 2/5] END max_depth=13, max_features=11; AUC: (test=0.857) Accuracy: (test=0.857) total time=   0.0s\n",
      "[CV 3/5] END max_depth=13, max_features=11; AUC: (test=0.774) Accuracy: (test=0.762) total time=   0.0s\n",
      "[CV 4/5] END max_depth=13, max_features=11; AUC: (test=0.804) Accuracy: (test=0.810) total time=   0.0s\n",
      "[CV 5/5] END max_depth=13, max_features=11; AUC: (test=0.783) Accuracy: (test=0.781) total time=   0.0s\n",
      "[CV 1/5] END max_depth=13, max_features=12; AUC: (test=0.803) Accuracy: (test=0.810) total time=   0.0s\n",
      "[CV 2/5] END max_depth=13, max_features=12; AUC: (test=0.806) Accuracy: (test=0.803) total time=   0.0s\n",
      "[CV 3/5] END max_depth=13, max_features=12; AUC: (test=0.839) Accuracy: (test=0.837) total time=   0.0s\n",
      "[CV 4/5] END max_depth=13, max_features=12; AUC: (test=0.843) Accuracy: (test=0.844) total time=   0.0s\n",
      "[CV 5/5] END max_depth=13, max_features=12; AUC: (test=0.794) Accuracy: (test=0.795) total time=   0.0s\n",
      "[CV 1/5] END max_depth=13, max_features=13; AUC: (test=0.802) Accuracy: (test=0.810) total time=   0.0s\n",
      "[CV 2/5] END max_depth=13, max_features=13; AUC: (test=0.759) Accuracy: (test=0.762) total time=   0.0s\n",
      "[CV 3/5] END max_depth=13, max_features=13; AUC: (test=0.760) Accuracy: (test=0.755) total time=   0.0s\n",
      "[CV 4/5] END max_depth=13, max_features=13; AUC: (test=0.828) Accuracy: (test=0.830) total time=   0.0s\n",
      "[CV 5/5] END max_depth=13, max_features=13; AUC: (test=0.774) Accuracy: (test=0.774) total time=   0.0s\n",
      "[CV 1/5] END max_depth=14, max_features=1; AUC: (test=0.804) Accuracy: (test=0.803) total time=   0.0s\n",
      "[CV 2/5] END max_depth=14, max_features=1; AUC: (test=0.812) Accuracy: (test=0.816) total time=   0.0s\n",
      "[CV 3/5] END max_depth=14, max_features=1; AUC: (test=0.753) Accuracy: (test=0.762) total time=   0.0s\n",
      "[CV 4/5] END max_depth=14, max_features=1; AUC: (test=0.753) Accuracy: (test=0.762) total time=   0.0s\n",
      "[CV 5/5] END max_depth=14, max_features=1; AUC: (test=0.791) Accuracy: (test=0.781) total time=   0.0s\n",
      "[CV 1/5] END max_depth=14, max_features=2; AUC: (test=0.821) Accuracy: (test=0.823) total time=   0.0s\n",
      "[CV 2/5] END max_depth=14, max_features=2; AUC: (test=0.844) Accuracy: (test=0.844) total time=   0.0s\n",
      "[CV 3/5] END max_depth=14, max_features=2; AUC: (test=0.830) Accuracy: (test=0.830) total time=   0.0s\n",
      "[CV 4/5] END max_depth=14, max_features=2; AUC: (test=0.732) Accuracy: (test=0.741) total time=   0.0s\n",
      "[CV 5/5] END max_depth=14, max_features=2; AUC: (test=0.761) Accuracy: (test=0.760) total time=   0.0s\n",
      "[CV 1/5] END max_depth=14, max_features=3; AUC: (test=0.847) Accuracy: (test=0.850) total time=   0.0s\n",
      "[CV 2/5] END max_depth=14, max_features=3; AUC: (test=0.812) Accuracy: (test=0.810) total time=   0.0s\n",
      "[CV 3/5] END max_depth=14, max_features=3; AUC: (test=0.743) Accuracy: (test=0.741) total time=   0.0s\n",
      "[CV 4/5] END max_depth=14, max_features=3; AUC: (test=0.786) Accuracy: (test=0.789) total time=   0.0s\n",
      "[CV 5/5] END max_depth=14, max_features=3; AUC: (test=0.764) Accuracy: (test=0.767) total time=   0.0s\n",
      "[CV 1/5] END max_depth=14, max_features=4; AUC: (test=0.800) Accuracy: (test=0.803) total time=   0.0s\n",
      "[CV 2/5] END max_depth=14, max_features=4; AUC: (test=0.791) Accuracy: (test=0.796) total time=   0.0s\n",
      "[CV 3/5] END max_depth=14, max_features=4; AUC: (test=0.785) Accuracy: (test=0.789) total time=   0.0s\n",
      "[CV 4/5] END max_depth=14, max_features=4; AUC: (test=0.819) Accuracy: (test=0.823) total time=   0.0s\n",
      "[CV 5/5] END max_depth=14, max_features=4; AUC: (test=0.825) Accuracy: (test=0.822) total time=   0.0s\n",
      "[CV 1/5] END max_depth=14, max_features=5; AUC: (test=0.809) Accuracy: (test=0.810) total time=   0.0s\n",
      "[CV 2/5] END max_depth=14, max_features=5; AUC: (test=0.773) Accuracy: (test=0.776) total time=   0.0s\n",
      "[CV 3/5] END max_depth=14, max_features=5; AUC: (test=0.785) Accuracy: (test=0.782) total time=   0.0s\n",
      "[CV 4/5] END max_depth=14, max_features=5; AUC: (test=0.862) Accuracy: (test=0.864) total time=   0.0s\n",
      "[CV 5/5] END max_depth=14, max_features=5; AUC: (test=0.744) Accuracy: (test=0.747) total time=   0.0s\n",
      "[CV 1/5] END max_depth=14, max_features=6; AUC: (test=0.803) Accuracy: (test=0.810) total time=   0.0s\n",
      "[CV 2/5] END max_depth=14, max_features=6; AUC: (test=0.812) Accuracy: (test=0.810) total time=   0.0s\n",
      "[CV 3/5] END max_depth=14, max_features=6; AUC: (test=0.774) Accuracy: (test=0.776) total time=   0.0s\n",
      "[CV 4/5] END max_depth=14, max_features=6; AUC: (test=0.837) Accuracy: (test=0.837) total time=   0.0s\n",
      "[CV 5/5] END max_depth=14, max_features=6; AUC: (test=0.790) Accuracy: (test=0.795) total time=   0.0s\n",
      "[CV 1/5] END max_depth=14, max_features=7; AUC: (test=0.826) Accuracy: (test=0.830) total time=   0.0s\n",
      "[CV 2/5] END max_depth=14, max_features=7; AUC: (test=0.865) Accuracy: (test=0.864) total time=   0.0s\n",
      "[CV 3/5] END max_depth=14, max_features=7; AUC: (test=0.796) Accuracy: (test=0.803) total time=   0.0s\n",
      "[CV 4/5] END max_depth=14, max_features=7; AUC: (test=0.843) Accuracy: (test=0.844) total time=   0.0s\n",
      "[CV 5/5] END max_depth=14, max_features=7; AUC: (test=0.784) Accuracy: (test=0.788) total time=   0.0s\n",
      "[CV 1/5] END max_depth=14, max_features=8; AUC: (test=0.815) Accuracy: (test=0.816) total time=   0.0s\n",
      "[CV 2/5] END max_depth=14, max_features=8; AUC: (test=0.771) Accuracy: (test=0.769) total time=   0.0s\n",
      "[CV 3/5] END max_depth=14, max_features=8; AUC: (test=0.792) Accuracy: (test=0.789) total time=   0.0s\n",
      "[CV 4/5] END max_depth=14, max_features=8; AUC: (test=0.790) Accuracy: (test=0.789) total time=   0.0s\n",
      "[CV 5/5] END max_depth=14, max_features=8; AUC: (test=0.860) Accuracy: (test=0.863) total time=   0.0s\n",
      "[CV 1/5] END max_depth=14, max_features=9; AUC: (test=0.814) Accuracy: (test=0.816) total time=   0.0s\n",
      "[CV 2/5] END max_depth=14, max_features=9; AUC: (test=0.810) Accuracy: (test=0.810) total time=   0.0s\n",
      "[CV 3/5] END max_depth=14, max_features=9; AUC: (test=0.827) Accuracy: (test=0.830) total time=   0.0s\n",
      "[CV 4/5] END max_depth=14, max_features=9; AUC: (test=0.850) Accuracy: (test=0.850) total time=   0.0s\n",
      "[CV 5/5] END max_depth=14, max_features=9; AUC: (test=0.768) Accuracy: (test=0.767) total time=   0.0s\n",
      "[CV 1/5] END max_depth=14, max_features=10; AUC: (test=0.792) Accuracy: (test=0.796) total time=   0.0s\n",
      "[CV 2/5] END max_depth=14, max_features=10; AUC: (test=0.793) Accuracy: (test=0.789) total time=   0.0s\n",
      "[CV 3/5] END max_depth=14, max_features=10; AUC: (test=0.764) Accuracy: (test=0.769) total time=   0.0s\n",
      "[CV 4/5] END max_depth=14, max_features=10; AUC: (test=0.812) Accuracy: (test=0.816) total time=   0.0s\n",
      "[CV 5/5] END max_depth=14, max_features=10; AUC: (test=0.810) Accuracy: (test=0.815) total time=   0.0s\n",
      "[CV 1/5] END max_depth=14, max_features=11; AUC: (test=0.803) Accuracy: (test=0.810) total time=   0.0s\n",
      "[CV 2/5] END max_depth=14, max_features=11; AUC: (test=0.774) Accuracy: (test=0.776) total time=   0.0s\n",
      "[CV 3/5] END max_depth=14, max_features=11; AUC: (test=0.759) Accuracy: (test=0.762) total time=   0.0s\n",
      "[CV 4/5] END max_depth=14, max_features=11; AUC: (test=0.756) Accuracy: (test=0.755) total time=   0.0s\n",
      "[CV 5/5] END max_depth=14, max_features=11; AUC: (test=0.786) Accuracy: (test=0.788) total time=   0.0s\n",
      "[CV 1/5] END max_depth=14, max_features=12; AUC: (test=0.809) Accuracy: (test=0.816) total time=   0.0s\n",
      "[CV 2/5] END max_depth=14, max_features=12; AUC: (test=0.782) Accuracy: (test=0.776) total time=   0.0s\n",
      "[CV 3/5] END max_depth=14, max_features=12; AUC: (test=0.837) Accuracy: (test=0.837) total time=   0.0s\n",
      "[CV 4/5] END max_depth=14, max_features=12; AUC: (test=0.817) Accuracy: (test=0.816) total time=   0.0s\n",
      "[CV 5/5] END max_depth=14, max_features=12; AUC: (test=0.814) Accuracy: (test=0.815) total time=   0.0s\n",
      "[CV 1/5] END max_depth=14, max_features=13; AUC: (test=0.791) Accuracy: (test=0.796) total time=   0.0s\n",
      "[CV 2/5] END max_depth=14, max_features=13; AUC: (test=0.821) Accuracy: (test=0.823) total time=   0.0s\n",
      "[CV 3/5] END max_depth=14, max_features=13; AUC: (test=0.794) Accuracy: (test=0.796) total time=   0.0s\n",
      "[CV 4/5] END max_depth=14, max_features=13; AUC: (test=0.780) Accuracy: (test=0.796) total time=   0.0s\n",
      "[CV 5/5] END max_depth=14, max_features=13; AUC: (test=0.768) Accuracy: (test=0.767) total time=   0.0s\n"
     ]
    },
    {
     "data": {
      "text/html": [
       "<style>#sk-container-id-1 {color: black;background-color: white;}#sk-container-id-1 pre{padding: 0;}#sk-container-id-1 div.sk-toggleable {background-color: white;}#sk-container-id-1 label.sk-toggleable__label {cursor: pointer;display: block;width: 100%;margin-bottom: 0;padding: 0.3em;box-sizing: border-box;text-align: center;}#sk-container-id-1 label.sk-toggleable__label-arrow:before {content: \"▸\";float: left;margin-right: 0.25em;color: #696969;}#sk-container-id-1 label.sk-toggleable__label-arrow:hover:before {color: black;}#sk-container-id-1 div.sk-estimator:hover label.sk-toggleable__label-arrow:before {color: black;}#sk-container-id-1 div.sk-toggleable__content {max-height: 0;max-width: 0;overflow: hidden;text-align: left;background-color: #f0f8ff;}#sk-container-id-1 div.sk-toggleable__content pre {margin: 0.2em;color: black;border-radius: 0.25em;background-color: #f0f8ff;}#sk-container-id-1 input.sk-toggleable__control:checked~div.sk-toggleable__content {max-height: 200px;max-width: 100%;overflow: auto;}#sk-container-id-1 input.sk-toggleable__control:checked~label.sk-toggleable__label-arrow:before {content: \"▾\";}#sk-container-id-1 div.sk-estimator input.sk-toggleable__control:checked~label.sk-toggleable__label {background-color: #d4ebff;}#sk-container-id-1 div.sk-label input.sk-toggleable__control:checked~label.sk-toggleable__label {background-color: #d4ebff;}#sk-container-id-1 input.sk-hidden--visually {border: 0;clip: rect(1px 1px 1px 1px);clip: rect(1px, 1px, 1px, 1px);height: 1px;margin: -1px;overflow: hidden;padding: 0;position: absolute;width: 1px;}#sk-container-id-1 div.sk-estimator {font-family: monospace;background-color: #f0f8ff;border: 1px dotted black;border-radius: 0.25em;box-sizing: border-box;margin-bottom: 0.5em;}#sk-container-id-1 div.sk-estimator:hover {background-color: #d4ebff;}#sk-container-id-1 div.sk-parallel-item::after {content: \"\";width: 100%;border-bottom: 1px solid gray;flex-grow: 1;}#sk-container-id-1 div.sk-label:hover label.sk-toggleable__label {background-color: #d4ebff;}#sk-container-id-1 div.sk-serial::before {content: \"\";position: absolute;border-left: 1px solid gray;box-sizing: border-box;top: 0;bottom: 0;left: 50%;z-index: 0;}#sk-container-id-1 div.sk-serial {display: flex;flex-direction: column;align-items: center;background-color: white;padding-right: 0.2em;padding-left: 0.2em;position: relative;}#sk-container-id-1 div.sk-item {position: relative;z-index: 1;}#sk-container-id-1 div.sk-parallel {display: flex;align-items: stretch;justify-content: center;background-color: white;position: relative;}#sk-container-id-1 div.sk-item::before, #sk-container-id-1 div.sk-parallel-item::before {content: \"\";position: absolute;border-left: 1px solid gray;box-sizing: border-box;top: 0;bottom: 0;left: 50%;z-index: -1;}#sk-container-id-1 div.sk-parallel-item {display: flex;flex-direction: column;z-index: 1;position: relative;background-color: white;}#sk-container-id-1 div.sk-parallel-item:first-child::after {align-self: flex-end;width: 50%;}#sk-container-id-1 div.sk-parallel-item:last-child::after {align-self: flex-start;width: 50%;}#sk-container-id-1 div.sk-parallel-item:only-child::after {width: 0;}#sk-container-id-1 div.sk-dashed-wrapped {border: 1px dashed gray;margin: 0 0.4em 0.5em 0.4em;box-sizing: border-box;padding-bottom: 0.4em;background-color: white;}#sk-container-id-1 div.sk-label label {font-family: monospace;font-weight: bold;display: inline-block;line-height: 1.2em;}#sk-container-id-1 div.sk-label-container {text-align: center;}#sk-container-id-1 div.sk-container {/* jupyter's `normalize.less` sets `[hidden] { display: none; }` but bootstrap.min.css set `[hidden] { display: none !important; }` so we also need the `!important` here to be able to override the default hidden behavior on the sphinx rendered scikit-learn.org. See: https://github.com/scikit-learn/scikit-learn/issues/21755 */display: inline-block !important;position: relative;}#sk-container-id-1 div.sk-text-repr-fallback {display: none;}</style><div id=\"sk-container-id-1\" class=\"sk-top-container\"><div class=\"sk-text-repr-fallback\"><pre>GridSearchCV(cv=5, estimator=DecisionTreeClassifier(),\n",
       "             param_grid=[{&#x27;max_depth&#x27;: [10, 11, 12, 13, 14],\n",
       "                          &#x27;max_features&#x27;: [1, 2, 3, 4, 5, 6, 7, 8, 9, 10, 11,\n",
       "                                           12, 13]}],\n",
       "             refit=False,\n",
       "             scoring={&#x27;AUC&#x27;: &#x27;roc_auc&#x27;,\n",
       "                      &#x27;Accuracy&#x27;: make_scorer(accuracy_score)},\n",
       "             verbose=3)</pre><b>In a Jupyter environment, please rerun this cell to show the HTML representation or trust the notebook. <br />On GitHub, the HTML representation is unable to render, please try loading this page with nbviewer.org.</b></div><div class=\"sk-container\" hidden><div class=\"sk-item sk-dashed-wrapped\"><div class=\"sk-label-container\"><div class=\"sk-label sk-toggleable\"><input class=\"sk-toggleable__control sk-hidden--visually\" id=\"sk-estimator-id-1\" type=\"checkbox\" ><label for=\"sk-estimator-id-1\" class=\"sk-toggleable__label sk-toggleable__label-arrow\">GridSearchCV</label><div class=\"sk-toggleable__content\"><pre>GridSearchCV(cv=5, estimator=DecisionTreeClassifier(),\n",
       "             param_grid=[{&#x27;max_depth&#x27;: [10, 11, 12, 13, 14],\n",
       "                          &#x27;max_features&#x27;: [1, 2, 3, 4, 5, 6, 7, 8, 9, 10, 11,\n",
       "                                           12, 13]}],\n",
       "             refit=False,\n",
       "             scoring={&#x27;AUC&#x27;: &#x27;roc_auc&#x27;,\n",
       "                      &#x27;Accuracy&#x27;: make_scorer(accuracy_score)},\n",
       "             verbose=3)</pre></div></div></div><div class=\"sk-parallel\"><div class=\"sk-parallel-item\"><div class=\"sk-item\"><div class=\"sk-label-container\"><div class=\"sk-label sk-toggleable\"><input class=\"sk-toggleable__control sk-hidden--visually\" id=\"sk-estimator-id-2\" type=\"checkbox\" ><label for=\"sk-estimator-id-2\" class=\"sk-toggleable__label sk-toggleable__label-arrow\">estimator: DecisionTreeClassifier</label><div class=\"sk-toggleable__content\"><pre>DecisionTreeClassifier()</pre></div></div></div><div class=\"sk-serial\"><div class=\"sk-item\"><div class=\"sk-estimator sk-toggleable\"><input class=\"sk-toggleable__control sk-hidden--visually\" id=\"sk-estimator-id-3\" type=\"checkbox\" ><label for=\"sk-estimator-id-3\" class=\"sk-toggleable__label sk-toggleable__label-arrow\">DecisionTreeClassifier</label><div class=\"sk-toggleable__content\"><pre>DecisionTreeClassifier()</pre></div></div></div></div></div></div></div></div></div></div>"
      ],
      "text/plain": [
       "GridSearchCV(cv=5, estimator=DecisionTreeClassifier(),\n",
       "             param_grid=[{'max_depth': [10, 11, 12, 13, 14],\n",
       "                          'max_features': [1, 2, 3, 4, 5, 6, 7, 8, 9, 10, 11,\n",
       "                                           12, 13]}],\n",
       "             refit=False,\n",
       "             scoring={'AUC': 'roc_auc',\n",
       "                      'Accuracy': make_scorer(accuracy_score)},\n",
       "             verbose=3)"
      ]
     },
     "execution_count": 20,
     "metadata": {},
     "output_type": "execute_result"
    }
   ],
   "source": [
    "from sklearn.metrics import accuracy_score, make_scorer, precision_score\n",
    "from sklearn.model_selection import GridSearchCV\n",
    "from sklearn.tree import DecisionTreeClassifier\n",
    "\n",
    "scoring = {\"AUC\": \"roc_auc\", \"Accuracy\": make_scorer(accuracy_score)}\n",
    "# , \"Scores\":make_scorer(precision_recall_fscore_support\n",
    "forest_params = [{'max_depth': list(range(10, 15)), 'max_features': list(range(1,14))}]\n",
    "tree_model = DecisionTreeClassifier()\n",
    "clf = GridSearchCV(tree_model, forest_params, cv = 5, scoring=scoring, verbose=3, refit=False)\n",
    "\n",
    "clf.fit(X_train, y_train)"
   ]
  }
 ],
 "metadata": {
  "kaggle": {
   "accelerator": "none",
   "dataSources": [
    {
     "datasetId": 1582403,
     "sourceId": 2603715,
     "sourceType": "datasetVersion"
    }
   ],
   "dockerImageVersionId": 30635,
   "isGpuEnabled": false,
   "isInternetEnabled": true,
   "language": "python",
   "sourceType": "notebook"
  },
  "kernelspec": {
   "display_name": "Python 3",
   "language": "python",
   "name": "python3"
  },
  "language_info": {
   "codemirror_mode": {
    "name": "ipython",
    "version": 3
   },
   "file_extension": ".py",
   "mimetype": "text/x-python",
   "name": "python",
   "nbconvert_exporter": "python",
   "pygments_lexer": "ipython3",
   "version": "3.10.12"
  },
  "papermill": {
   "default_parameters": {},
   "duration": 10.658245,
   "end_time": "2024-01-26T23:33:14.390091",
   "environment_variables": {},
   "exception": null,
   "input_path": "__notebook__.ipynb",
   "output_path": "__notebook__.ipynb",
   "parameters": {},
   "start_time": "2024-01-26T23:33:03.731846",
   "version": "2.4.0"
  }
 },
 "nbformat": 4,
 "nbformat_minor": 5
}
